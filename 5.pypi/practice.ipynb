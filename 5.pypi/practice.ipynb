{
 "cells": [
  {
   "cell_type": "code",
   "execution_count": 1,
   "metadata": {},
   "outputs": [
    {
     "name": "stdout",
     "output_type": "stream",
     "text": [
      "Collecting emoji\n",
      "  Downloading emoji-2.14.1-py3-none-any.whl.metadata (5.7 kB)\n",
      "Downloading emoji-2.14.1-py3-none-any.whl (590 kB)\n",
      "   ---------------------------------------- 0.0/590.6 kB ? eta -:--:--\n",
      "   ---------------------------------------- 0.0/590.6 kB ? eta -:--:--\n",
      "   ----------------------------------- ---- 524.3/590.6 kB 2.8 MB/s eta 0:00:01\n",
      "   ---------------------------------------- 590.6/590.6 kB 2.1 MB/s eta 0:00:00\n",
      "Installing collected packages: emoji\n",
      "Successfully installed emoji-2.14.1\n"
     ]
    },
    {
     "name": "stderr",
     "output_type": "stream",
     "text": [
      "\n",
      "[notice] A new release of pip is available: 25.1.1 -> 25.2\n",
      "[notice] To update, run: python.exe -m pip install --upgrade pip\n"
     ]
    }
   ],
   "source": [
    "!pip install emoji\n"
   ]
  },
  {
   "cell_type": "code",
   "execution_count": 3,
   "metadata": {},
   "outputs": [
    {
     "name": "stdout",
     "output_type": "stream",
     "text": [
      "Python is 😪\n"
     ]
    }
   ],
   "source": [
    "import emoji\n",
    "print(emoji.emojize('Python is :sleepy_face:'))"
   ]
  },
  {
   "cell_type": "code",
   "execution_count": 4,
   "metadata": {},
   "outputs": [
    {
     "name": "stdout",
     "output_type": "stream",
     "text": [
      "Collecting pyfiglet\n",
      "  Downloading pyfiglet-1.0.4-py3-none-any.whl.metadata (7.4 kB)\n",
      "Downloading pyfiglet-1.0.4-py3-none-any.whl (1.8 MB)\n",
      "   ---------------------------------------- 0.0/1.8 MB ? eta -:--:--\n",
      "   ---------------------------------------- 0.0/1.8 MB ? eta -:--:--\n",
      "   ---------------------------------------- 0.0/1.8 MB ? eta -:--:--\n",
      "   ---------------------------------------- 0.0/1.8 MB ? eta -:--:--\n",
      "   ---------------------------------------- 0.0/1.8 MB ? eta -:--:--\n",
      "   ----- ---------------------------------- 0.3/1.8 MB ? eta -:--:--\n",
      "   ----- ---------------------------------- 0.3/1.8 MB ? eta -:--:--\n",
      "   ----- ---------------------------------- 0.3/1.8 MB ? eta -:--:--\n",
      "   ----- ---------------------------------- 0.3/1.8 MB ? eta -:--:--\n",
      "   ----- ---------------------------------- 0.3/1.8 MB ? eta -:--:--\n",
      "   ----------- ---------------------------- 0.5/1.8 MB 250.4 kB/s eta 0:00:06\n",
      "   ----------- ---------------------------- 0.5/1.8 MB 250.4 kB/s eta 0:00:06\n",
      "   ----------- ---------------------------- 0.5/1.8 MB 250.4 kB/s eta 0:00:06\n",
      "   ----------- ---------------------------- 0.5/1.8 MB 250.4 kB/s eta 0:00:06\n",
      "   ----------- ---------------------------- 0.5/1.8 MB 250.4 kB/s eta 0:00:06\n",
      "   ----------- ---------------------------- 0.5/1.8 MB 250.4 kB/s eta 0:00:06\n",
      "   ----------- ---------------------------- 0.5/1.8 MB 250.4 kB/s eta 0:00:06\n",
      "   ----------------- ---------------------- 0.8/1.8 MB 212.3 kB/s eta 0:00:05\n",
      "   ----------------- ---------------------- 0.8/1.8 MB 212.3 kB/s eta 0:00:05\n",
      "   ----------------- ---------------------- 0.8/1.8 MB 212.3 kB/s eta 0:00:05\n",
      "   ----------------- ---------------------- 0.8/1.8 MB 212.3 kB/s eta 0:00:05\n",
      "   ----------------- ---------------------- 0.8/1.8 MB 212.3 kB/s eta 0:00:05\n",
      "   ----------------- ---------------------- 0.8/1.8 MB 212.3 kB/s eta 0:00:05\n",
      "   ----------------------- ---------------- 1.0/1.8 MB 209.7 kB/s eta 0:00:04\n",
      "   ----------------------- ---------------- 1.0/1.8 MB 209.7 kB/s eta 0:00:04\n",
      "   ----------------------- ---------------- 1.0/1.8 MB 209.7 kB/s eta 0:00:04\n",
      "   ----------------------- ---------------- 1.0/1.8 MB 209.7 kB/s eta 0:00:04\n",
      "   ----------------------- ---------------- 1.0/1.8 MB 209.7 kB/s eta 0:00:04\n",
      "   ----------------------- ---------------- 1.0/1.8 MB 209.7 kB/s eta 0:00:04\n",
      "   ----------------------- ---------------- 1.0/1.8 MB 209.7 kB/s eta 0:00:04\n",
      "   ----------------------- ---------------- 1.0/1.8 MB 209.7 kB/s eta 0:00:04\n",
      "   ----------------------- ---------------- 1.0/1.8 MB 209.7 kB/s eta 0:00:04\n",
      "   ----------------------- ---------------- 1.0/1.8 MB 209.7 kB/s eta 0:00:04\n",
      "   ----------------------- ---------------- 1.0/1.8 MB 209.7 kB/s eta 0:00:04\n",
      "   ----------------------- ---------------- 1.0/1.8 MB 209.7 kB/s eta 0:00:04\n",
      "   ----------------------- ---------------- 1.0/1.8 MB 209.7 kB/s eta 0:00:04\n",
      "   ----------------------- ---------------- 1.0/1.8 MB 209.7 kB/s eta 0:00:04\n",
      "   ----------------------------- ---------- 1.3/1.8 MB 159.8 kB/s eta 0:00:04\n",
      "   ----------------------------- ---------- 1.3/1.8 MB 159.8 kB/s eta 0:00:04\n",
      "   ----------------------------- ---------- 1.3/1.8 MB 159.8 kB/s eta 0:00:04\n",
      "   ----------------------------- ---------- 1.3/1.8 MB 159.8 kB/s eta 0:00:04\n",
      "   ----------------------------- ---------- 1.3/1.8 MB 159.8 kB/s eta 0:00:04\n",
      "   ----------------------------- ---------- 1.3/1.8 MB 159.8 kB/s eta 0:00:04\n",
      "   ----------------------------- ---------- 1.3/1.8 MB 159.8 kB/s eta 0:00:04\n",
      "   ----------------------------- ---------- 1.3/1.8 MB 159.8 kB/s eta 0:00:04\n",
      "   ----------------------------- ---------- 1.3/1.8 MB 159.8 kB/s eta 0:00:04\n",
      "   ----------------------------- ---------- 1.3/1.8 MB 159.8 kB/s eta 0:00:04\n",
      "   ----------------------------- ---------- 1.3/1.8 MB 159.8 kB/s eta 0:00:04\n",
      "   ----------------------------- ---------- 1.3/1.8 MB 159.8 kB/s eta 0:00:04\n",
      "   ----------------------------- ---------- 1.3/1.8 MB 159.8 kB/s eta 0:00:04\n",
      "   ----------------------------- ---------- 1.3/1.8 MB 159.8 kB/s eta 0:00:04\n",
      "   ----------------------------- ---------- 1.3/1.8 MB 159.8 kB/s eta 0:00:04\n",
      "   ----------------------------- ---------- 1.3/1.8 MB 159.8 kB/s eta 0:00:04\n",
      "   ----------------------------- ---------- 1.3/1.8 MB 159.8 kB/s eta 0:00:04\n",
      "   ----------------------------- ---------- 1.3/1.8 MB 159.8 kB/s eta 0:00:04\n",
      "   ----------------------------- ---------- 1.3/1.8 MB 159.8 kB/s eta 0:00:04\n",
      "   ----------------------------- ---------- 1.3/1.8 MB 159.8 kB/s eta 0:00:04\n",
      "   ----------------------------- ---------- 1.3/1.8 MB 159.8 kB/s eta 0:00:04\n",
      "   ---------------------------------- ----- 1.6/1.8 MB 119.3 kB/s eta 0:00:02\n",
      "   ---------------------------------- ----- 1.6/1.8 MB 119.3 kB/s eta 0:00:02\n",
      "   ---------------------------------- ----- 1.6/1.8 MB 119.3 kB/s eta 0:00:02\n",
      "   ---------------------------------- ----- 1.6/1.8 MB 119.3 kB/s eta 0:00:02\n",
      "   ---------------------------------- ----- 1.6/1.8 MB 119.3 kB/s eta 0:00:02\n",
      "   ---------------------------------- ----- 1.6/1.8 MB 119.3 kB/s eta 0:00:02\n",
      "   ---------------------------------- ----- 1.6/1.8 MB 119.3 kB/s eta 0:00:02\n",
      "   ---------------------------------- ----- 1.6/1.8 MB 119.3 kB/s eta 0:00:02\n",
      "   ---------------------------------- ----- 1.6/1.8 MB 119.3 kB/s eta 0:00:02\n",
      "   ---------------------------------- ----- 1.6/1.8 MB 119.3 kB/s eta 0:00:02\n",
      "   ---------------------------------- ----- 1.6/1.8 MB 119.3 kB/s eta 0:00:02\n",
      "   ---------------------------------- ----- 1.6/1.8 MB 119.3 kB/s eta 0:00:02\n",
      "   ---------------------------------- ----- 1.6/1.8 MB 119.3 kB/s eta 0:00:02\n",
      "   ---------------------------------- ----- 1.6/1.8 MB 119.3 kB/s eta 0:00:02\n",
      "   ---------------------------------- ----- 1.6/1.8 MB 119.3 kB/s eta 0:00:02\n",
      "   ---------------------------------- ----- 1.6/1.8 MB 119.3 kB/s eta 0:00:02\n",
      "   ---------------------------------- ----- 1.6/1.8 MB 119.3 kB/s eta 0:00:02\n",
      "   ---------------------------------- ----- 1.6/1.8 MB 119.3 kB/s eta 0:00:02\n",
      "   ---------------------------------- ----- 1.6/1.8 MB 119.3 kB/s eta 0:00:02\n",
      "   ---------------------------------------- 1.8/1.8 MB 103.4 kB/s eta 0:00:00\n",
      "Installing collected packages: pyfiglet\n",
      "Successfully installed pyfiglet-1.0.4\n"
     ]
    },
    {
     "name": "stderr",
     "output_type": "stream",
     "text": [
      "\n",
      "[notice] A new release of pip is available: 25.1.1 -> 25.2\n",
      "[notice] To update, run: python.exe -m pip install --upgrade pip\n"
     ]
    }
   ],
   "source": [
    "!pip install pyfiglet"
   ]
  },
  {
   "cell_type": "code",
   "execution_count": 7,
   "metadata": {},
   "outputs": [
    {
     "name": "stdout",
     "output_type": "stream",
     "text": [
      "   _____ __   _ ______  __     __            __\n",
      "  / ___// /__(_) / / / / /____/ /_____ _____/ /\n",
      "  \\__ \\/ //_/ / / / / / / ___/ __/ __ `/ __  / \n",
      " ___/ / ,< / / / / /_/ (__  ) /_/ /_/ / /_/ /  \n",
      "/____/_/|_/_/_/_/\\____/____/\\__/\\__,_/\\__,_/   \n",
      "                                               \n",
      "\n"
     ]
    }
   ],
   "source": [
    "import pyfiglet\n",
    "f = pyfiglet.figlet_format(\"SkillUstad\", font=\"slant\")\n",
    "print(f)"
   ]
  },
  {
   "cell_type": "code",
   "execution_count": 8,
   "metadata": {},
   "outputs": [
    {
     "name": "stdout",
     "output_type": "stream",
     "text": [
      "Requirement already satisfied: colorama in c:\\users\\pc\\appdata\\local\\programs\\python\\python312\\lib\\site-packages (0.4.6)\n"
     ]
    },
    {
     "name": "stderr",
     "output_type": "stream",
     "text": [
      "\n",
      "[notice] A new release of pip is available: 25.1.1 -> 25.2\n",
      "[notice] To update, run: python.exe -m pip install --upgrade pip\n"
     ]
    }
   ],
   "source": [
    "!pip install colorama\n"
   ]
  },
  {
   "cell_type": "code",
   "execution_count": 18,
   "metadata": {},
   "outputs": [
    {
     "name": "stdout",
     "output_type": "stream",
     "text": [
      "some red text\n",
      "and with a green background\n",
      "and in dim text\n",
      "\n",
      "back to normal now\n"
     ]
    }
   ],
   "source": [
    "from colorama import Fore, Back, Style\n",
    "print(Fore.RED + 'some red text')\n",
    "print(Back.GREEN + 'and with a green background')\n",
    "print(Style.DIM + 'and in dim text')\n",
    "print(Style.RESET_ALL)\n",
    "print('back to normal now')"
   ]
  },
  {
   "cell_type": "code",
   "execution_count": 19,
   "metadata": {},
   "outputs": [
    {
     "name": "stdout",
     "output_type": "stream",
     "text": [
      "Collecting moment"
     ]
    },
    {
     "name": "stderr",
     "output_type": "stream",
     "text": [
      "\n",
      "[notice] A new release of pip is available: 25.1.1 -> 25.2"
     ]
    },
    {
     "name": "stdout",
     "output_type": "stream",
     "text": [
      "\n"
     ]
    },
    {
     "name": "stderr",
     "output_type": "stream",
     "text": [
      "\n"
     ]
    },
    {
     "name": "stdout",
     "output_type": "stream",
     "text": [
      "  Downloading moment-0.12.1-py3-none-any.whl.metadata (711 bytes)\n"
     ]
    },
    {
     "name": "stderr",
     "output_type": "stream",
     "text": [
      "[notice] To update, run: python.exe -m pip install --upgrade pip\n"
     ]
    },
    {
     "name": "stdout",
     "output_type": "stream",
     "text": [
      "Collecting dateparser>=0.7 (from moment)\n",
      "  Downloading dateparser-1.2.2-py3-none-any.whl.metadata (29 kB)\n",
      "Requirement already satisfied: pytz>=2018.9 in c:\\users\\pc\\appdata\\local\\programs\\python\\python312\\lib\\site-packages (from moment) (2025.1)\n",
      "Collecting times>=0.7 (from moment)\n",
      "  Downloading times-0.7-py2.py3-none-any.whl.metadata (2.0 kB)\n",
      "Requirement already satisfied: python-dateutil>=2.7.0 in c:\\users\\pc\\appdata\\local\\programs\\python\\python312\\lib\\site-packages (from dateparser>=0.7->moment) (2.9.0.post0)\n",
      "Requirement already satisfied: regex>=2024.9.11 in c:\\users\\pc\\appdata\\local\\programs\\python\\python312\\lib\\site-packages (from dateparser>=0.7->moment) (2024.11.6)\n",
      "Requirement already satisfied: tzlocal>=0.2 in c:\\users\\pc\\appdata\\local\\programs\\python\\python312\\lib\\site-packages (from dateparser>=0.7->moment) (5.2)\n",
      "Requirement already satisfied: six>=1.5 in c:\\users\\pc\\appdata\\local\\programs\\python\\python312\\lib\\site-packages (from python-dateutil>=2.7.0->dateparser>=0.7->moment) (1.17.0)\n",
      "Collecting arrow (from times>=0.7->moment)\n",
      "  Downloading arrow-1.3.0-py3-none-any.whl.metadata (7.5 kB)\n",
      "Requirement already satisfied: tzdata in c:\\users\\pc\\appdata\\local\\programs\\python\\python312\\lib\\site-packages (from tzlocal>=0.2->dateparser>=0.7->moment) (2025.1)\n",
      "Collecting types-python-dateutil>=2.8.10 (from arrow->times>=0.7->moment)\n",
      "  Downloading types_python_dateutil-2.9.0.20250822-py3-none-any.whl.metadata (1.8 kB)\n",
      "Downloading moment-0.12.1-py3-none-any.whl (6.4 kB)\n",
      "Downloading dateparser-1.2.2-py3-none-any.whl (315 kB)\n",
      "Downloading times-0.7-py2.py3-none-any.whl (3.8 kB)\n",
      "Downloading arrow-1.3.0-py3-none-any.whl (66 kB)\n",
      "Downloading types_python_dateutil-2.9.0.20250822-py3-none-any.whl (17 kB)\n",
      "Installing collected packages: types-python-dateutil, dateparser, arrow, times, moment\n",
      "\n",
      "   -------- ------------------------------- 1/5 [dateparser]\n",
      "   -------- ------------------------------- 1/5 [dateparser]\n",
      "   -------- ------------------------------- 1/5 [dateparser]\n",
      "   -------- ------------------------------- 1/5 [dateparser]\n",
      "   -------- ------------------------------- 1/5 [dateparser]\n",
      "   -------- ------------------------------- 1/5 [dateparser]\n",
      "   -------- ------------------------------- 1/5 [dateparser]\n",
      "   -------- ------------------------------- 1/5 [dateparser]\n",
      "   ---------------- ----------------------- 2/5 [arrow]\n",
      "   ------------------------ --------------- 3/5 [times]\n",
      "   -------------------------------- ------- 4/5 [moment]\n",
      "   ---------------------------------------- 5/5 [moment]\n",
      "\n",
      "Successfully installed arrow-1.3.0 dateparser-1.2.2 moment-0.12.1 times-0.7 types-python-dateutil-2.9.0.20250822\n"
     ]
    }
   ],
   "source": [
    "!pip install moment"
   ]
  },
  {
   "cell_type": "code",
   "execution_count": 30,
   "metadata": {},
   "outputs": [
    {
     "name": "stdout",
     "output_type": "stream",
     "text": [
      "2025-09-05\n",
      "Friday, September 05 2025\n"
     ]
    }
   ],
   "source": [
    "import moment\n",
    "\n",
    "now = moment.now()\n",
    "print(now.format('YYYY-MM-DD'))\n",
    "print(now.format('dddd, MMMM D YYYY'))"
   ]
  },
  {
   "cell_type": "code",
   "execution_count": 31,
   "metadata": {},
   "outputs": [
    {
     "name": "stderr",
     "output_type": "stream",
     "text": [
      "\n"
     ]
    },
    {
     "name": "stdout",
     "output_type": "stream",
     "text": [
      "Requirement already satisfied: tqdm in c:\\users\\pc\\appdata\\local\\programs\\python\\python312\\lib\\site-packages (4.67.1)\n"
     ]
    },
    {
     "name": "stderr",
     "output_type": "stream",
     "text": [
      "[notice] A new release of pip is available: 25.1.1 -> 25.2"
     ]
    },
    {
     "name": "stdout",
     "output_type": "stream",
     "text": [
      "Requirement already satisfied: colorama in c:\\users\\pc\\appdata\\local\\programs\\python\\python312\\lib\\site-packages (from tqdm) (0.4.6)"
     ]
    },
    {
     "name": "stderr",
     "output_type": "stream",
     "text": [
      "\n"
     ]
    },
    {
     "name": "stdout",
     "output_type": "stream",
     "text": [
      "\n"
     ]
    },
    {
     "name": "stderr",
     "output_type": "stream",
     "text": [
      "[notice] To update, run: python.exe -m pip install --upgrade pip\n"
     ]
    }
   ],
   "source": [
    "!pip install tqdm"
   ]
  },
  {
   "cell_type": "code",
   "execution_count": 37,
   "metadata": {},
   "outputs": [
    {
     "name": "stderr",
     "output_type": "stream",
     "text": [
      "Counting: 100%|██████████| 100/100 [00:05<00:00, 19.49it/s]\n"
     ]
    }
   ],
   "source": [
    "from tqdm import tqdm\n",
    "import time\n",
    "\n",
    "# Loop from 1 to 100 with progress bar\n",
    "for i in tqdm(range(1, 101), desc=\"Counting\"):\n",
    "    time.sleep(0.05)  # simulate some work\n"
   ]
  }
 ],
 "metadata": {
  "kernelspec": {
   "display_name": "Python 3",
   "language": "python",
   "name": "python3"
  },
  "language_info": {
   "codemirror_mode": {
    "name": "ipython",
    "version": 3
   },
   "file_extension": ".py",
   "mimetype": "text/x-python",
   "name": "python",
   "nbconvert_exporter": "python",
   "pygments_lexer": "ipython3",
   "version": "3.12.8"
  }
 },
 "nbformat": 4,
 "nbformat_minor": 2
}
