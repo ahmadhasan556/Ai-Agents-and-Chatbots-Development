{
 "cells": [
  {
   "cell_type": "code",
   "execution_count": 7,
   "metadata": {},
   "outputs": [
    {
     "name": "stdout",
     "output_type": "stream",
     "text": [
      "even numbers from 1 to 50\n",
      "2 4 6 8 10 12 14 16 18 20 22 24 26 28 30 32 34 36 38 40 42 44 46 48 50 /n\n",
      "odd number from 1 to 50\n",
      "1 3 5 7 9 11 13 15 17 19 21 23 25 27 29 31 33 35 37 39 41 43 45 47 49 "
     ]
    }
   ],
   "source": [
    "#1 Write a program using a for loop to print all even and odd numbers between 1 to 50.\n",
    "\n",
    "# # odd\n",
    "# for i in range(1,51,2):\n",
    "#   print(i)\n",
    "\n",
    "# # even\n",
    "# for i in range(0,50,2):\n",
    "#   print(i)\n",
    "\n",
    "# 2nd method\n",
    "\n",
    "print(\"even numbers from 1 to 50\")\n",
    "for i in range(1,51):\n",
    "  if i % 2 == 0:\n",
    "    print(i,end=\" \")\n",
    "print(\"/n\")\n",
    "print(\"odd number from 1 to 50\")\n",
    "for i in range(1,51):\n",
    "  if i % 2 != 0:\n",
    "    print(i, end=\" \")\n"
   ]
  },
  {
   "cell_type": "code",
   "execution_count": 25,
   "metadata": {},
   "outputs": [
    {
     "name": "stdout",
     "output_type": "stream",
     "text": [
      "Sum of multiples\n",
      "315\n",
      "6\n"
     ]
    }
   ],
   "source": [
    "#2 Find the sum of all numbers between 1 and 100 that are divisible by 3 OR 5\n",
    "\n",
    "print(\"Sum of multiples\")\n",
    "sum=0\n",
    "count=0\n",
    "\n",
    "for i in range(1,100):\n",
    "  if i % 3 == 0 or i % 5 == 0:\n",
    "    count = count + 1\n",
    "    sum += i\n",
    "    \n",
    "\n",
    "print(sum)\n",
    "print(count)\n",
    "    "
   ]
  },
  {
   "cell_type": "code",
   "execution_count": 48,
   "metadata": {},
   "outputs": [
    {
     "name": "stdout",
     "output_type": "stream",
     "text": [
      "5 is prime number\n"
     ]
    }
   ],
   "source": [
    "#3 Take a number and check if it is prime or not\n",
    "\n",
    "try:\n",
    "  # number = int(input(\"Enter number\"))\n",
    "  number=5\n",
    "\n",
    "  if number > 1:\n",
    "    for i in range(2, number):\n",
    "      if number % i == 0:\n",
    "        print(f\"{number} is not prime number\")\n",
    "        break\n",
    "    else:\n",
    "      print(f\"{number} is prime number\")\n",
    "  else:\n",
    "    print(\"Prime number is greater then 1\")\n",
    "\n",
    "except ValueError:\n",
    "  print(\"Invalid , Please enter integer value\")"
   ]
  },
  {
   "cell_type": "code",
   "execution_count": 7,
   "metadata": {},
   "outputs": [
    {
     "name": "stdout",
     "output_type": "stream",
     "text": [
      "6 x  1\n",
      "6 x  2\n",
      "6 x  3\n",
      "6 x  4\n",
      "6 x  5\n",
      "6 x  6\n",
      "6 x  7\n",
      "6 x  8\n",
      "6 x  9\n",
      "6 x  10\n"
     ]
    }
   ],
   "source": [
    "#4 Take a number as input and print its multiplication table from 1 to 10\n",
    "\n",
    "num = int(input(\"Enter Number\"))\n",
    "\n",
    "for i in range(1, 11,1):\n",
    "  table = num * i\n",
    "  print(f\"{num} x \",i)"
   ]
  },
  {
   "cell_type": "code",
   "execution_count": 23,
   "metadata": {},
   "outputs": [
    {
     "name": "stdout",
     "output_type": "stream",
     "text": [
      "4 3 2 1 "
     ]
    }
   ],
   "source": [
    "#5 Take an integer and print its digits in reverse order using a while loop\n",
    "\n",
    "number = int(input(\"Enter Number\"))\n",
    "\n",
    "while number > 0 :\n",
    "  digit = number % 10\n",
    "  print(digit, end=\" \")\n",
    "  number = number // 10\n"
   ]
  },
  {
   "cell_type": "code",
   "execution_count": 32,
   "metadata": {},
   "outputs": [
    {
     "name": "stdout",
     "output_type": "stream",
     "text": [
      "Fizz Buzz Fizz Fizz Buzz Fizz FizzBuzz Fizz Buzz Fizz Fizz Buzz Fizz FizzBuzz Fizz Buzz Fizz Fizz Buzz Fizz FizzBuzz Fizz Buzz "
     ]
    }
   ],
   "source": [
    "#6 FizzBuzz Logic:\n",
    "# 1. Print numbers 1 to 50, but:\n",
    "# 2.Print Fizz if divisible by 3,\n",
    "# 3.Buzz if divisible by 5,\n",
    "# 4.FizzBuzz if divisible by both.\n",
    "\n",
    "for i in range(1, 51):\n",
    "  if (i % 3 == 0 and i % 5==0):\n",
    "    print(\"FizzBuzz\",end=\" \")\n",
    "  elif (i % 3 == 0):\n",
    "    print(\"Fizz\",end=\" \")\n",
    "  elif(i % 5 ==0):\n",
    "    print(\"Buzz\",end=\" \")"
   ]
  },
  {
   "cell_type": "code",
   "execution_count": null,
   "metadata": {},
   "outputs": [
    {
     "name": "stdout",
     "output_type": "stream",
     "text": [
      "1 4 "
     ]
    }
   ],
   "source": [
    "#7 Input a string and count vowels and consonants using a loop and logical conditions.\n",
    "\n",
    "str = input(\"Enter a string\")\n",
    "\n",
    "vowels_count=0\n",
    "consonants_count=0\n",
    "\n",
    "vowels=\"aeiou\"\n",
    "\n",
    "for i in range (len(str)):\n",
    "  char = str[i]\n",
    "  if char.isalpha():\n",
    "    if char in vowels:\n",
    "      vowels_count +=1\n",
    "    else:\n",
    "      consonants_count += 1\n",
    "  else:\n",
    "    print(\"enter a string character\")\n",
    "\n",
    "print(vowels_count, end=\" \")\n",
    "print(consonants_count, end=\" \")"
   ]
  },
  {
   "cell_type": "code",
   "execution_count": null,
   "metadata": {},
   "outputs": [],
   "source": [
    "#8 Take a string and check if it reads the same backward(like “madam”).\n",
    "\n",
    "text = input(\"Enter word\")\n",
    "\n"
   ]
  }
 ],
 "metadata": {
  "kernelspec": {
   "display_name": "Python 3",
   "language": "python",
   "name": "python3"
  },
  "language_info": {
   "codemirror_mode": {
    "name": "ipython",
    "version": 3
   },
   "file_extension": ".py",
   "mimetype": "text/x-python",
   "name": "python",
   "nbconvert_exporter": "python",
   "pygments_lexer": "ipython3",
   "version": "3.12.8"
  }
 },
 "nbformat": 4,
 "nbformat_minor": 2
}
