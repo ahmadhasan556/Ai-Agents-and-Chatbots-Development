{
 "cells": [
  {
   "cell_type": "code",
   "execution_count": 11,
   "metadata": {},
   "outputs": [
    {
     "name": "stdout",
     "output_type": "stream",
     "text": [
      "even numbers from 1 to 50\n",
      "2 is Even\n",
      "4 is Even\n",
      "6 is Even\n",
      "8 is Even\n",
      "10 is Even\n",
      "12 is Even\n",
      "14 is Even\n",
      "16 is Even\n",
      "18 is Even\n",
      "20 is Even\n",
      "22 is Even\n",
      "24 is Even\n",
      "26 is Even\n",
      "28 is Even\n",
      "30 is Even\n",
      "32 is Even\n",
      "34 is Even\n",
      "36 is Even\n",
      "38 is Even\n",
      "40 is Even\n",
      "42 is Even\n",
      "44 is Even\n",
      "46 is Even\n",
      "48 is Even\n",
      "50 is Even\n",
      "odd number from 1 to 50\n",
      "1 is Odd\n",
      "3 is Odd\n",
      "5 is Odd\n",
      "7 is Odd\n",
      "9 is Odd\n",
      "11 is Odd\n",
      "13 is Odd\n",
      "15 is Odd\n",
      "17 is Odd\n",
      "19 is Odd\n",
      "21 is Odd\n",
      "23 is Odd\n",
      "25 is Odd\n",
      "27 is Odd\n",
      "29 is Odd\n",
      "31 is Odd\n",
      "33 is Odd\n",
      "35 is Odd\n",
      "37 is Odd\n",
      "39 is Odd\n",
      "41 is Odd\n",
      "43 is Odd\n",
      "45 is Odd\n",
      "47 is Odd\n",
      "49 is Odd\n"
     ]
    }
   ],
   "source": [
    "#1 Write a program using a for loop to print all even and odd numbers between 1 to 50.\n",
    "\n",
    "# even\n",
    "print(\"even numbers from 1 to 50\")\n",
    "for i in range(1,51):\n",
    "  if i % 2 == 0:\n",
    "    print(f\"{i} is Even\")\n",
    "# odd\n",
    "print(\"odd number from 1 to 50\")\n",
    "for i in range (1, 51):\n",
    "  if i % 2!= 0:\n",
    "    print(f\"{i} is Odd\")\n"
   ]
  },
  {
   "cell_type": "code",
   "execution_count": 15,
   "metadata": {},
   "outputs": [
    {
     "name": "stdout",
     "output_type": "stream",
     "text": [
      "2418\n"
     ]
    }
   ],
   "source": [
    "#2 Find the sum of all numbers between 1 and 100 that are divisible by 3 OR 5\n",
    "\n",
    "total=0\n",
    "for i in range(1,101):\n",
    "  if i % 3==0 or i % 5 == 0:\n",
    "    total += i\n",
    "\n",
    "print(total)\n",
    "    "
   ]
  },
  {
   "cell_type": "code",
   "execution_count": 25,
   "metadata": {},
   "outputs": [
    {
     "name": "stdout",
     "output_type": "stream",
     "text": [
      "Number is prime\n"
     ]
    }
   ],
   "source": [
    "#3 Take a number and check if it is prime or not\n",
    "\n",
    "number = int(input(\"Enter a number\"))\n",
    "# number = 11\n",
    "if number > 1:\n",
    "  for i in range(2, number):\n",
    "    if number % i == 0:\n",
    "      print(\"Number is not prime\")\n",
    "      break\n",
    "  else:\n",
    "      print(\"Number is prime\") \n",
    "else:\n",
    "  print(\"Number must be positive\")"
   ]
  },
  {
   "cell_type": "code",
   "execution_count": 27,
   "metadata": {},
   "outputs": [
    {
     "name": "stdout",
     "output_type": "stream",
     "text": [
      "6 x 1 =  6\n",
      "6 x 2 =  12\n",
      "6 x 3 =  18\n",
      "6 x 4 =  24\n",
      "6 x 5 =  30\n",
      "6 x 6 =  36\n",
      "6 x 7 =  42\n",
      "6 x 8 =  48\n",
      "6 x 9 =  54\n",
      "6 x 10 =  60\n"
     ]
    }
   ],
   "source": [
    "#4 Take a number as input and print its multiplication table from 1 to 10\n",
    "\n",
    "num = int(input(\"Enter Number\"))\n",
    "\n",
    "for i in range(1, 11,1):\n",
    "  table = num * i\n",
    "  print(f\"{num} x {i} = \",table)"
   ]
  },
  {
   "cell_type": "code",
   "execution_count": 38,
   "metadata": {},
   "outputs": [
    {
     "name": "stdout",
     "output_type": "stream",
     "text": [
      "4\n",
      "3\n",
      "2\n",
      "1\n"
     ]
    }
   ],
   "source": [
    "#5 Take an integer and print its digits in reverse order using a while loop\n",
    "\n",
    "number = int(input(\"Enter Number\"))\n",
    "\n",
    "while number > 0:\n",
    "  digits = number % 10\n",
    "  print(digits)\n",
    "  number = number // 10\n"
   ]
  },
  {
   "cell_type": "code",
   "execution_count": 32,
   "metadata": {},
   "outputs": [
    {
     "name": "stdout",
     "output_type": "stream",
     "text": [
      "Fizz Buzz Fizz Fizz Buzz Fizz FizzBuzz Fizz Buzz Fizz Fizz Buzz Fizz FizzBuzz Fizz Buzz Fizz Fizz Buzz Fizz FizzBuzz Fizz Buzz "
     ]
    }
   ],
   "source": [
    "#6 FizzBuzz Logic:\n",
    "# 1. Print numbers 1 to 50, but:\n",
    "# 2.Print Fizz if divisible by 3,\n",
    "# 3.Buzz if divisible by 5,\n",
    "# 4.FizzBuzz if divisible by both.\n",
    "\n",
    "for i in range(1, 51):\n",
    "  if (i % 3 == 0 and i % 5==0):\n",
    "    print(\"FizzBuzz\",end=\" \")\n",
    "  elif (i % 3 == 0):\n",
    "    print(\"Fizz\",end=\" \")\n",
    "  elif(i % 5 ==0):\n",
    "    print(\"Buzz\",end=\" \")"
   ]
  },
  {
   "cell_type": "code",
   "execution_count": null,
   "metadata": {},
   "outputs": [
    {
     "name": "stdout",
     "output_type": "stream",
     "text": [
      "1 4 "
     ]
    }
   ],
   "source": [
    "#7 Input a string and count vowels and consonants using a loop and logical conditions.\n",
    "\n",
    "str = input(\"Enter a string\")\n",
    "\n",
    "vowels_count=0\n",
    "consonants_count=0\n",
    "\n",
    "vowels=\"aeiou\"\n",
    "\n",
    "for i in range (len(str)):\n",
    "  char = str[i]\n",
    "  if char.isalpha():\n",
    "    if char in vowels:\n",
    "      vowels_count +=1\n",
    "    else:\n",
    "      consonants_count += 1\n",
    "  else:\n",
    "    print(\"enter a string character\")\n",
    "\n",
    "print(vowels_count, end=\" \")\n",
    "print(consonants_count, end=\" \")"
   ]
  },
  {
   "cell_type": "code",
   "execution_count": 42,
   "metadata": {},
   "outputs": [
    {
     "name": "stdout",
     "output_type": "stream",
     "text": [
      "not plaindrome\n"
     ]
    }
   ],
   "source": [
    "#8 Take a string and check if it reads the same backward(like “madam”).\n",
    "\n",
    "text = input(\"Enter word\")\n",
    "\n",
    "reverse_text=\"\"\n",
    "for i in range(len(text)):\n",
    "  char= text[i]\n",
    "  reverse_text = char + reverse_text # 1.m , 2.am, 3.dam, 4.adam,5.madam,\n",
    "\n",
    "if text == reverse_text:\n",
    "  print(\"Palindrome\")\n",
    "else:\n",
    "  print(\"not plaindrome\")"
   ]
  },
  {
   "cell_type": "code",
   "execution_count": 24,
   "metadata": {},
   "outputs": [
    {
     "data": {
      "text/plain": [
       "24"
      ]
     },
     "execution_count": 24,
     "metadata": {},
     "output_type": "execute_result"
    }
   ],
   "source": [
    "#9 Write a function factorial(n) that returns the factorial of a number using a loop.\n",
    "\n",
    "def factorial(num):\n",
    "  if num < 0:\n",
    "    print(\"number must be positive\")\n",
    "  elif num == 0:\n",
    "    return 1;\n",
    "  else:\n",
    "    result = 1\n",
    "    for i in range(1, num+1):\n",
    "      result *=i\n",
    "    return result\n",
    "\n",
    "factorial(4)\n"
   ]
  },
  {
   "cell_type": "code",
   "execution_count": 44,
   "metadata": {},
   "outputs": [
    {
     "data": {
      "text/plain": [
       "6"
      ]
     },
     "execution_count": 44,
     "metadata": {},
     "output_type": "execute_result"
    }
   ],
   "source": [
    "#10 Create a function find_max(lst) that returns the largest number in a list.\n",
    "list= [2,4,6,3]\n",
    "def find_max(list):\n",
    "  if not list:\n",
    "    print(\"Missing list\")\n",
    "  max_num=list[0] # 1.2, \n",
    "  for i in range(len(list)):\n",
    "    num = list[i]\n",
    "    if num > max_num: # 1.2,\n",
    "      max_num = num # \n",
    "  return max_num\n",
    "\n",
    "find_max(list)\n"
   ]
  },
  {
   "cell_type": "code",
   "execution_count": 47,
   "metadata": {},
   "outputs": [
    {
     "name": "stdout",
     "output_type": "stream",
     "text": [
      "True\n"
     ]
    }
   ],
   "source": [
    "# 11 Write a function to check if a number is an Armstrong number (e.g., 153 → 1³ + 5³ + 3³ = 153).\n",
    "\n",
    "def armStrongCheck(num):\n",
    "  digits = str(num)\n",
    "  power = len(digits)\n",
    "  total = 0 \n",
    "  for digit in digits:\n",
    "    total += int(digit) ** power\n",
    "  return total == num\n",
    "    \n",
    "res = armStrongCheck(153)\n",
    "print(res)"
   ]
  },
  {
   "cell_type": "code",
   "execution_count": 49,
   "metadata": {},
   "outputs": [
    {
     "data": {
      "text/plain": [
       "17"
      ]
     },
     "execution_count": 49,
     "metadata": {},
     "output_type": "execute_result"
    }
   ],
   "source": [
    "# 12 Create a function that takes a number and returns the sum of its digits.\n",
    "\n",
    "def sum_of_digits(num):\n",
    "  sum = 0 \n",
    "  for digit in str(num):\n",
    "    sum = int(digit) + sum\n",
    "  return sum\n",
    "\n",
    "sum_of_digits(566)"
   ]
  },
  {
   "cell_type": "code",
   "execution_count": 48,
   "metadata": {},
   "outputs": [
    {
     "name": "stdout",
     "output_type": "stream",
     "text": [
      "0 1 1 2 3 5 8 13 21 34 "
     ]
    }
   ],
   "source": [
    "#13 Write a function fibonacci(n) that prints the first n Fibonacci numbers using a loop.\n",
    "\n",
    "def fibonacci(n):\n",
    "  if n < 0:\n",
    "    return None\n",
    "  a= 0\n",
    "  b= 1\n",
    "  for _ in range(n):\n",
    "    print(a, end=\" \")\n",
    "    a, b = b, a+b\n",
    "  \n",
    "fibonacci(10)\n"
   ]
  },
  {
   "cell_type": "code",
   "execution_count": 53,
   "metadata": {},
   "outputs": [
    {
     "data": {
      "text/plain": [
       "'0'"
      ]
     },
     "execution_count": 53,
     "metadata": {},
     "output_type": "execute_result"
    }
   ],
   "source": [
    "# 14. Write a function that takes a password string and\n",
    "# returns True if:\n",
    "# 2.Length ≥ 8,\n",
    "# 3.Contains letters and digits,\n",
    "# 4.Contains at least one special character (@,#,$ etc.)\n",
    "\n",
    "def password(pw):\n",
    "  if len(pw) < 8:\n",
    "    return False\n",
    "\n",
    "  has_leter= False\n",
    "  has_digit= False\n",
    "  has_special = False\n",
    "  special_chars = \"@#$%^&*()_+=-!?\"\n",
    "\n",
    "  for ch in pw:\n",
    "    if ch.isalpha():\n",
    "      has_leter = True\n",
    "    elif ch.isdigit():\n",
    "      has_digit = True\n",
    "    elif ch in special_chars:\n",
    "      has_special= True\n",
    "\n",
    "  return has_leter and has_digit and has_special\n",
    "\n",
    "password(\"Pass123@\")\n"
   ]
  }
 ],
 "metadata": {
  "kernelspec": {
   "display_name": "Python 3",
   "language": "python",
   "name": "python3"
  },
  "language_info": {
   "codemirror_mode": {
    "name": "ipython",
    "version": 3
   },
   "file_extension": ".py",
   "mimetype": "text/x-python",
   "name": "python",
   "nbconvert_exporter": "python",
   "pygments_lexer": "ipython3",
   "version": "3.12.8"
  }
 },
 "nbformat": 4,
 "nbformat_minor": 2
}
