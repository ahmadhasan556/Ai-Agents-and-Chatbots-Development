{
 "cells": [
  {
   "cell_type": "markdown",
   "metadata": {},
   "source": [
    "Logical Operations: and, or, not\n",
    "\n",
    "Def:\n",
    "  Logical Operations: and, or, not\n",
    "\n",
    "Operators & Simple Analogies\n",
    "\n",
    "  and → Both must be True\n",
    "\n",
    "  Like: *You can play outside **if it’s sunny AND you finished homework***.\n",
    "  or → At least one must be True\n",
    "\n",
    "  Like: *You can have dessert **if there’s cake OR ice cream***.\n",
    "  not → Flips True to False (and False to True)\n",
    "\n",
    "  Like: If the light is not on → it’s off."
   ]
  },
  {
   "cell_type": "code",
   "execution_count": 3,
   "metadata": {},
   "outputs": [
    {
     "name": "stdout",
     "output_type": "stream",
     "text": [
      "You eligible\n"
     ]
    }
   ],
   "source": [
    "attendence= 76\n",
    "isAssignmentSubmitted=True\n",
    "\n",
    "if(attendence > 75 and isAssignmentSubmitted == True):\n",
    "  print(\"You eligible\")"
   ]
  },
  {
   "cell_type": "code",
   "execution_count": 5,
   "metadata": {},
   "outputs": [
    {
     "name": "stdout",
     "output_type": "stream",
     "text": [
      "Yes you can go \n"
     ]
    }
   ],
   "source": [
    "days = \"sunday\"\n",
    "IsRaining= True\n",
    "\n",
    "if (days == \"sunday\" and IsRaining==True):\n",
    "  print(\"Yes you can go \")"
   ]
  },
  {
   "cell_type": "code",
   "execution_count": 19,
   "metadata": {},
   "outputs": [
    {
     "name": "stdout",
     "output_type": "stream",
     "text": [
      "You are logged in\n"
     ]
    }
   ],
   "source": [
    "correct_password = 1234\n",
    "userPassword = input(\"Please enter password\")\n",
    "userPassword = int(userPassword)\n",
    "\n",
    "if(userPassword != correct_password):\n",
    "  print(\"Wrong password\")\n",
    "else:\n",
    "  print(\"You are logged in\")"
   ]
  },
  {
   "cell_type": "markdown",
   "metadata": {},
   "source": [
    "Loops in Python\n",
    "\n",
    "Def: \n",
    "  Loops in python are control flow statement that allow a block of code to executed repeatedlyLoops let Python repeat actions without writing the same code again and again.\n",
    "  Loops let Python repeat actions without writing the same code again and again.\n",
    "\n",
    "Types\n",
    "  for loop → repeats a fixed number of times (goes through items in a list, range, etc.)\n",
    "  while loop → repeats as long as a condition is True\n"
   ]
  },
  {
   "cell_type": "code",
   "execution_count": null,
   "metadata": {},
   "outputs": [
    {
     "name": "stdout",
     "output_type": "stream",
     "text": [
      "Helloahmad\n",
      "Hellohello ahmad\n",
      "Hello\n",
      "Hellohamadh\n",
      "Hellosdfjkdhsf\n"
     ]
    }
   ],
   "source": [
    "for i in range(5):\n",
    "  name = input(\"Enter your name\") # input is use to get the value or input from user\n",
    "  print(\"Hello \" + name)"
   ]
  },
  {
   "cell_type": "code",
   "execution_count": 5,
   "metadata": {},
   "outputs": [
    {
     "name": "stdout",
     "output_type": "stream",
     "text": [
      "1\n",
      "3\n",
      "5\n",
      "7\n",
      "9\n"
     ]
    }
   ],
   "source": [
    "# range based\n",
    "  # start ending jump\n",
    "for i in range(1,10,2):\n",
    "  print(i)"
   ]
  },
  {
   "cell_type": "code",
   "execution_count": 9,
   "metadata": {},
   "outputs": [
    {
     "name": "stdout",
     "output_type": "stream",
     "text": [
      "<class 'str'>\n",
      "<class 'int'>\n"
     ]
    }
   ],
   "source": [
    "# type casting ==> convert one data type into another data type\n",
    "\n",
    "age=input(\"enter you age\")\n",
    "print(type(age))\n",
    "\n",
    "age= int(age)\n",
    "print(type(age))"
   ]
  },
  {
   "cell_type": "code",
   "execution_count": 13,
   "metadata": {},
   "outputs": [],
   "source": [
    "# while loop\n",
    "\n",
    "age=input(\"enter your age\")\n",
    "age = int(age)\n",
    "\n",
    "while(age<0):\n",
    "  age = int(input(\"enter age \"))"
   ]
  },
  {
   "cell_type": "markdown",
   "metadata": {},
   "source": [
    "Functions"
   ]
  },
  {
   "cell_type": "code",
   "execution_count": 15,
   "metadata": {},
   "outputs": [
    {
     "name": "stdout",
     "output_type": "stream",
     "text": [
      "Hello functions\n"
     ]
    }
   ],
   "source": [
    "# SYNTAX \n",
    "\n",
    "def sayHello():\n",
    "  print(\"Hello functions\")\n",
    "\n",
    "sayHello()"
   ]
  },
  {
   "cell_type": "code",
   "execution_count": 24,
   "metadata": {},
   "outputs": [
    {
     "name": "stdout",
     "output_type": "stream",
     "text": [
      "60.0\n"
     ]
    }
   ],
   "source": [
    "def calculatePercentage(obtM,totM):\n",
    "  percentage = obtM / totM * 100\n",
    "  return percentage \n",
    "\n",
    "res=calculatePercentage(30,50)\n",
    "print(res)"
   ]
  }
 ],
 "metadata": {
  "kernelspec": {
   "display_name": "Python 3",
   "language": "python",
   "name": "python3"
  },
  "language_info": {
   "codemirror_mode": {
    "name": "ipython",
    "version": 3
   },
   "file_extension": ".py",
   "mimetype": "text/x-python",
   "name": "python",
   "nbconvert_exporter": "python",
   "pygments_lexer": "ipython3",
   "version": "3.12.8"
  }
 },
 "nbformat": 4,
 "nbformat_minor": 2
}
