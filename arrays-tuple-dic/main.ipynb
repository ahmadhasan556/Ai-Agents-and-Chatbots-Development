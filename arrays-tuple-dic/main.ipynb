{
 "cells": [
  {
   "cell_type": "markdown",
   "metadata": {},
   "source": [
    "Arrays\n",
    "An array is a collection of items stored in a single variable, where each item can be accessed by its position (index).\n",
    "\n",
    "Simple Analogies\n",
    "Like a row of lockers → each locker has a number (index) to find what’s inside.\n",
    "Like an egg tray → each slot holds one egg, and you can pick eggs by their position.\n",
    "Like a train with compartments → each compartment has passengers (data) and a fixed order."
   ]
  },
  {
   "cell_type": "code",
   "execution_count": null,
   "metadata": {},
   "outputs": [],
   "source": [
    "# Making 1000 Variables for user\n",
    "name1=\"Zeeshan Ali\"\n",
    "name2=\"Ali\"\n",
    "name3=\"Asad\"\n",
    "name4=\"Ahmed\"\n",
    "\n",
    "# Memory Full\n",
    "# 1000, Not Management\n",
    "# \n",
    "# ..... \n",
    "# BAD APPROACH AND NOT MANAGEABLE"
   ]
  },
  {
   "cell_type": "code",
   "execution_count": 3,
   "metadata": {},
   "outputs": [
    {
     "name": "stdout",
     "output_type": "stream",
     "text": [
      "['ahmad', 'hasan', 'ali', 'zeeshan']\n",
      "ahmad\n",
      "hasan\n",
      "ali\n",
      "zeeshan\n"
     ]
    }
   ],
   "source": [
    "name=[\"ahmad\", \"hasan\", \"ali\", \"zeeshan\"]\n",
    "# index number start with zero \n",
    "print(name)\n",
    "print(name[0])\n",
    "print(name[1])\n",
    "print(name[2])\n",
    "print(name[3])"
   ]
  },
  {
   "cell_type": "code",
   "execution_count": 4,
   "metadata": {},
   "outputs": [
    {
     "name": "stdout",
     "output_type": "stream",
     "text": [
      "['ahmad', 'hasan', 'ali', 'zeeshan', 'khan']\n"
     ]
    }
   ],
   "source": [
    "# pushing data into the array \n",
    "name.append(\"khan\")\n",
    "print(name)"
   ]
  },
  {
   "cell_type": "code",
   "execution_count": 7,
   "metadata": {},
   "outputs": [
    {
     "name": "stdout",
     "output_type": "stream",
     "text": [
      "['hasan', 'ali', 'khan']\n"
     ]
    }
   ],
   "source": [
    "# remove first occurence of value\n",
    "name.remove(\"zeeshan\")\n",
    "print(name)"
   ]
  },
  {
   "cell_type": "code",
   "execution_count": 8,
   "metadata": {},
   "outputs": [
    {
     "name": "stdout",
     "output_type": "stream",
     "text": [
      "['hasan', 'ali']\n"
     ]
    }
   ],
   "source": [
    "# remove element from index \n",
    "name.pop(2)\n",
    "print(name)"
   ]
  },
  {
   "cell_type": "code",
   "execution_count": 12,
   "metadata": {},
   "outputs": [
    {
     "name": "stdout",
     "output_type": "stream",
     "text": [
      "1\n"
     ]
    }
   ],
   "source": [
    "# get index of first occurence\n",
    "print(name.index(\"ali\"))"
   ]
  },
  {
   "cell_type": "code",
   "execution_count": 14,
   "metadata": {},
   "outputs": [
    {
     "name": "stdout",
     "output_type": "stream",
     "text": [
      "['2', '2', '2', '2', '2']\n"
     ]
    }
   ],
   "source": [
    "# Take 5 Names from User using Loop and append it in array\n",
    "# and afterwards print the elements in array\n",
    "\n",
    "names = []\n",
    "\n",
    "for i in range(5):\n",
    "  name = input(\"Enter a number\")\n",
    "  names.append(name)\n",
    "print(names)\n"
   ]
  },
  {
   "cell_type": "code",
   "execution_count": 17,
   "metadata": {},
   "outputs": [
    {
     "data": {
      "text/plain": [
       "2"
      ]
     },
     "execution_count": 17,
     "metadata": {},
     "output_type": "execute_result"
    }
   ],
   "source": [
    "age=[2,3,4,56,7,7]\n",
    "\n",
    "age.count(7) # count how many times 7 appears in an array "
   ]
  },
  {
   "cell_type": "code",
   "execution_count": 19,
   "metadata": {},
   "outputs": [
    {
     "name": "stdout",
     "output_type": "stream",
     "text": [
      "2\n"
     ]
    }
   ],
   "source": [
    "# count how many items appears\n",
    "names=[\"ali\", \"hasan\",\"ali\"]\n",
    "print(names.count(\"ali\"))"
   ]
  },
  {
   "cell_type": "code",
   "execution_count": 20,
   "metadata": {},
   "outputs": [
    {
     "name": "stdout",
     "output_type": "stream",
     "text": [
      "['bilal', 'ali', 'ahmad']\n",
      "[8, 7, 6, 5, 4]\n"
     ]
    }
   ],
   "source": [
    "# Reverse an array \n",
    "\n",
    "names=[\"ahmad\",\"ali\",\"bilal\"]\n",
    "age=[4,5,6,7,8]\n",
    "names.reverse()\n",
    "age.reverse()\n",
    "\n",
    "print(names)\n",
    "print(age)"
   ]
  },
  {
   "cell_type": "code",
   "execution_count": 21,
   "metadata": {},
   "outputs": [
    {
     "name": "stdout",
     "output_type": "stream",
     "text": [
      "Yes student register in the school\n"
     ]
    }
   ],
   "source": [
    "students_name = [\"ahmad\", \"hasan\", \"ali\",\"bilal\"]\n",
    "\n",
    "user_name= input(\"Enter a Student name\")\n",
    "\n",
    "if user_name in students_name:\n",
    "  print(\"Yes student register in the school\")\n",
    "else:\n",
    "  print(\"No Student\")"
   ]
  },
  {
   "cell_type": "code",
   "execution_count": 23,
   "metadata": {},
   "outputs": [
    {
     "name": "stdout",
     "output_type": "stream",
     "text": [
      "Max Age: 787\n",
      "Min Age: 5\n"
     ]
    }
   ],
   "source": [
    "ages=[23,456,787,5,5,5]\n",
    "\n",
    "max_age=max(ages)\n",
    "min_age=min(ages)\n",
    "\n",
    "print(f\"Max Age: {max_age}\")\n",
    "print(f\"Min Age: {min_age}\")"
   ]
  },
  {
   "cell_type": "code",
   "execution_count": 28,
   "metadata": {},
   "outputs": [
    {
     "name": "stdout",
     "output_type": "stream",
     "text": [
      "ahmad\n",
      "ali\n",
      "bilal\n",
      "['bilal', 'ali', 'ahmad']\n",
      "2\n",
      "32\n",
      "yes in numbers array\n"
     ]
    }
   ],
   "source": [
    "# 1) Create an array (list) of student names and print each name using a loop.\n",
    "# 2) Print the array elements in reverse order.\n",
    "# 3) Print only the even numbers from an array.\n",
    "# 4) Ask the user for a number and check if it exists in the array.\n",
    "\n",
    "#1\n",
    "students_list=[\"ahmad\",\"ali\",\"bilal\"]\n",
    "\n",
    "for name in students_list:\n",
    "  print(name)\n",
    "\n",
    "#2\n",
    "students_list.reverse()\n",
    "print(students_list)\n",
    "\n",
    "#3\n",
    "numbers = [2,32,1,45,3,5]\n",
    "\n",
    "for num in numbers:\n",
    "  if num % 2 == 0:\n",
    "    print(num)\n",
    "\n",
    "#4\n",
    "numbers = [2,3,4,4]\n",
    "user= int(input(\"Enter a number to check\"))\n",
    "\n",
    "if user in numbers:\n",
    "  print(\"yes in numbers array\")\n",
    "else:\n",
    "  print(\"No\")"
   ]
  },
  {
   "cell_type": "markdown",
   "metadata": {},
   "source": [
    "Multi Dimensional Array"
   ]
  },
  {
   "cell_type": "code",
   "execution_count": 29,
   "metadata": {},
   "outputs": [
    {
     "name": "stdout",
     "output_type": "stream",
     "text": [
      "9\n"
     ]
    }
   ],
   "source": [
    "#matrix\n",
    "#2d array \n",
    "\n",
    "matrix_2d=[\n",
    "  [1,2,3],\n",
    "  [4,5,6],\n",
    "  [7,8,9]\n",
    "]\n",
    "\n",
    "print(matrix_2d[2][2]) # output is 9"
   ]
  },
  {
   "cell_type": "code",
   "execution_count": 30,
   "metadata": {},
   "outputs": [
    {
     "name": "stdout",
     "output_type": "stream",
     "text": [
      "2\n"
     ]
    }
   ],
   "source": [
    "matrix_3d=[\n",
    "  [\n",
    "    [1,2,3],\n",
    "    [4,5,6]\n",
    "  ],\n",
    "  [\n",
    "    [7,8,9],\n",
    "    [10,11,12]\n",
    "  ]\n",
    "]\n",
    "\n",
    "print(matrix_3d[0][0][1])"
   ]
  },
  {
   "cell_type": "markdown",
   "metadata": {},
   "source": [
    "Tuple\n",
    "Definition\n",
    "A tuple is an ordered collection of items that is immutable (cannot be changed after creation). Items can be of different data types and are indexed by position.\n",
    "\n",
    "Simple Analogies\n",
    "Like a list of coordinates → (x, y) values stay fixed.\n",
    "\n",
    "Like your date of birth → once set, it never changes.\n",
    "\n",
    "Like a fixed menu combo → items are chosen and stay in the same order.\n",
    "\n",
    "Want me to also create this same structured format for List and Set so you’ll have the full Python collection family side by side?"
   ]
  },
  {
   "cell_type": "code",
   "execution_count": 33,
   "metadata": {},
   "outputs": [
    {
     "name": "stdout",
     "output_type": "stream",
     "text": [
      "(1, 2, 3)\n"
     ]
    }
   ],
   "source": [
    "# Creating a tuple\n",
    "numbers = (1, 2, 3)\n",
    "print(numbers)  "
   ]
  },
  {
   "cell_type": "code",
   "execution_count": null,
   "metadata": {},
   "outputs": [],
   "source": [
    "# Mixed data types\n",
    "person = (\"Alice\", 25, \"Engineer\")\n",
    "print(person[0])       # Alice\n",
    "print(person[1])  "
   ]
  },
  {
   "cell_type": "code",
   "execution_count": null,
   "metadata": {},
   "outputs": [],
   "source": [
    "\n",
    "# Nested tuple\n",
    "coordinates = ((10, 20), (30, 40))\n",
    "print(coordinates[1])  # (30, 40)\n",
    "\n",
    "# immutable nature mean not change when it declares\n",
    "person[1] = 26  # erro tuples cannot be modified"
   ]
  },
  {
   "cell_type": "markdown",
   "metadata": {},
   "source": [
    "Dictionary\n",
    "\n",
    "Definition\n",
    "A dictionary is a collection of key–value pairs, where each key is unique and is used to access its corresponding value.\n",
    "\n",
    "Simple Analogies\n",
    "Like a real dictionary → a word (key) gives its meaning (value).\n",
    "Like a contacts list in your phone → a name (key) gives a phone number (value).\n",
    "Like a student ID card → ID number (key) points to student details (value)."
   ]
  },
  {
   "cell_type": "code",
   "execution_count": 35,
   "metadata": {},
   "outputs": [
    {
     "name": "stdout",
     "output_type": "stream",
     "text": [
      "{'name': 'ahmad', 'age': 20, 'course': ['Math', 'Python']}\n",
      "ahmad\n"
     ]
    }
   ],
   "source": [
    "student ={\n",
    "  \"name\": \"ahmad\",\n",
    "  \"age\": 20,\n",
    "  \"course\": ['Math','Python']\n",
    "}\n",
    "print(student)\n",
    "print(student['name'])"
   ]
  },
  {
   "cell_type": "code",
   "execution_count": 36,
   "metadata": {},
   "outputs": [
    {
     "name": "stdout",
     "output_type": "stream",
     "text": [
      "03084911028\n"
     ]
    }
   ],
   "source": [
    "# adding data to the dictionary \n",
    "\n",
    "student['phone'] = '03084911028'\n",
    "print(student['phone'])"
   ]
  },
  {
   "cell_type": "code",
   "execution_count": 37,
   "metadata": {},
   "outputs": [
    {
     "name": "stdout",
     "output_type": "stream",
     "text": [
      "{'Camry', 'Alice', 2020, 'Blue', 'Toyota'}\n"
     ]
    }
   ],
   "source": [
    "my_car={\n",
    "  \"name\":\"Toyota\",\n",
    "  \"model\":\"Camry\",\n",
    "  \"year\": 2021,\n",
    "  \"color\": 'Blue',\n",
    "  \"owner\":'Zeeshan'\n",
    "}\n",
    "\n",
    "my_car_Set={\n",
    "   \"Toyota\",\n",
    "    \"Camry\",\n",
    "    \"Camry\",\n",
    "    2020,\n",
    "    \"Blue\",\n",
    "    \"Alice\"\n",
    "}\n",
    "\n",
    "print(my_car_Set)"
   ]
  },
  {
   "cell_type": "code",
   "execution_count": 38,
   "metadata": {},
   "outputs": [
    {
     "name": "stdout",
     "output_type": "stream",
     "text": [
      "{'name': 'ahmad', 'course': ['Math', 'Python'], 'phone': '03084911028'}\n"
     ]
    }
   ],
   "source": [
    "# removing item form dic\n",
    "\n",
    "del student['age']\n",
    "\n",
    "print(student)"
   ]
  },
  {
   "cell_type": "code",
   "execution_count": 41,
   "metadata": {},
   "outputs": [
    {
     "name": "stdout",
     "output_type": "stream",
     "text": [
      "dict_keys(['name', 'course', 'phone'])\n",
      "dict_values(['ahmad', ['Math', 'Python'], '03084911028'])\n",
      "dict_items([('name', 'ahmad'), ('course', ['Math', 'Python']), ('phone', '03084911028')])\n"
     ]
    }
   ],
   "source": [
    "print(student.keys())\n",
    "print(student.values())\n",
    "print(student.items())\n"
   ]
  },
  {
   "cell_type": "code",
   "execution_count": 47,
   "metadata": {},
   "outputs": [
    {
     "name": "stdout",
     "output_type": "stream",
     "text": [
      "name:s ahmad\n",
      "course:s ['Math', 'Python']\n",
      "phone:s 03084911028\n"
     ]
    }
   ],
   "source": [
    "for key,value in student.items():\n",
    "  print(f\"{key}:s {value}\")"
   ]
  }
 ],
 "metadata": {
  "kernelspec": {
   "display_name": "Python 3",
   "language": "python",
   "name": "python3"
  },
  "language_info": {
   "codemirror_mode": {
    "name": "ipython",
    "version": 3
   },
   "file_extension": ".py",
   "mimetype": "text/x-python",
   "name": "python",
   "nbconvert_exporter": "python",
   "pygments_lexer": "ipython3",
   "version": "3.12.8"
  }
 },
 "nbformat": 4,
 "nbformat_minor": 2
}
