{
 "cells": [
  {
   "cell_type": "code",
   "execution_count": 5,
   "metadata": {},
   "outputs": [
    {
     "name": "stdout",
     "output_type": "stream",
     "text": [
      "-5\n"
     ]
    }
   ],
   "source": [
    "# Task 1:\n",
    "# Find the largest and smallest number in a list\n",
    "numbers= [23,4,42,5234,4,0,-5]\n",
    "\n",
    "large_number=max(numbers)\n",
    "small_number=min(numbers)\n",
    "\n",
    "print(small_number)"
   ]
  },
  {
   "cell_type": "code",
   "execution_count": 11,
   "metadata": {},
   "outputs": [
    {
     "name": "stdout",
     "output_type": "stream",
     "text": [
      "[25, 214, 1, 21, 1, 1]\n"
     ]
    }
   ],
   "source": [
    "# Task 2:\n",
    "# Reverse a list without using the reverse() method\n",
    "# list= [1,1,21,1,214,25]\n",
    "\n",
    "# reverse_num=[]\n",
    "\n",
    "# for num in list:\n",
    "#   reverse_num.insert(0,num)\n",
    "\n",
    "# print(reverse_num)"
   ]
  },
  {
   "cell_type": "code",
   "execution_count": 30,
   "metadata": {},
   "outputs": [
    {
     "name": "stdout",
     "output_type": "stream",
     "text": [
      "(9, 7)\n"
     ]
    }
   ],
   "source": [
    "my_tuple = (7, 9)\n",
    "a, b = my_tuple\n",
    "swapped = (b, a)\n",
    "print(swapped)  # (9, 7)\n"
   ]
  },
  {
   "cell_type": "code",
   "execution_count": 33,
   "metadata": {},
   "outputs": [
    {
     "name": "stdout",
     "output_type": "stream",
     "text": [
      "<class 'tuple'>\n",
      "yes\n"
     ]
    }
   ],
   "source": [
    "# Task 4:\n",
    "# Check if a given element exists in a tuple\n",
    "tuple = (1,2,4,5)\n",
    "print(type(tuple))\n",
    "el = 4\n",
    "\n",
    "for num in tuple:\n",
    "  if num == el:\n",
    "    print(\"yes\")"
   ]
  },
  {
   "cell_type": "code",
   "execution_count": 35,
   "metadata": {},
   "outputs": [
    {
     "name": "stdout",
     "output_type": "stream",
     "text": [
      "{'python': 2, 'is': 2, 'easy': 1, 'and': 1, 'powerfull': 1}\n"
     ]
    }
   ],
   "source": [
    "# Task 5:\n",
    "# Count the frequency of each word in a sentence using a\n",
    "# dictionary\n",
    "\n",
    "dic= \"python is easy and python is powerfull\"\n",
    "\n",
    "words= dic.split()\n",
    "\n",
    "word_freq={}\n",
    "\n",
    "for word in words:\n",
    "  if word in word_freq:\n",
    "    word_freq[word] += 1\n",
    "  else:\n",
    "    word_freq[word] = 1\n",
    "\n",
    "print(word_freq)\n"
   ]
  },
  {
   "cell_type": "code",
   "execution_count": 36,
   "metadata": {},
   "outputs": [
    {
     "name": "stdout",
     "output_type": "stream",
     "text": [
      "{'a': 1, 'b': 2, 'c': 3, 'd': 4}\n"
     ]
    }
   ],
   "source": [
    "# Task 6:\n",
    "# Merge two dictionaries into one\n",
    "dict1 = {\"a\": 1, \"b\": 2}\n",
    "dict2 = {\"c\": 3, \"d\": 4}\n",
    "\n",
    "merged = dict1 | dict2\n",
    "print(merged)\n"
   ]
  }
 ],
 "metadata": {
  "kernelspec": {
   "display_name": "Python 3",
   "language": "python",
   "name": "python3"
  },
  "language_info": {
   "codemirror_mode": {
    "name": "ipython",
    "version": 3
   },
   "file_extension": ".py",
   "mimetype": "text/x-python",
   "name": "python",
   "nbconvert_exporter": "python",
   "pygments_lexer": "ipython3",
   "version": "3.12.8"
  }
 },
 "nbformat": 4,
 "nbformat_minor": 2
}
