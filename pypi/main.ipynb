{
 "cells": [
  {
   "cell_type": "markdown",
   "metadata": {},
   "source": [
    "PYPI\n",
    "Definition\n",
    "PyPI (Python Package Index) is the official online repository where Python developers publish and download third-party packages to extend Python’s functionality.\n",
    "\n",
    "Simple Analogies\n",
    "Like an App Store → you download apps (packages) to add new features.\n",
    "\n",
    "Like a library bookshelf → all Python books (packages) are stored in one place.\n",
    "\n",
    "Like a supermarket → you pick ready-made items instead of making everything from scratch."
   ]
  },
  {
   "cell_type": "code",
   "execution_count": 1,
   "metadata": {},
   "outputs": [
    {
     "name": "stdout",
     "output_type": "stream",
     "text": [
      "Collecting spepy\n",
      "  Downloading spepy-1.0-py3-none-any.whl.metadata (1.3 kB)\n",
      "Downloading spepy-1.0-py3-none-any.whl (2.8 kB)\n",
      "Installing collected packages: spepy\n",
      "Successfully installed spepy-1.0\n"
     ]
    },
    {
     "name": "stderr",
     "output_type": "stream",
     "text": [
      "\n",
      "[notice] A new release of pip is available: 25.1.1 -> 25.2\n",
      "[notice] To update, run: python.exe -m pip install --upgrade pip\n"
     ]
    }
   ],
   "source": [
    "# Installing Package \n",
    "!pip install spepy"
   ]
  },
  {
   "cell_type": "code",
   "execution_count": 3,
   "metadata": {},
   "outputs": [],
   "source": [
    "import spepy\n",
    "\n",
    "spepy.speak(\"Hello how are you \")"
   ]
  },
  {
   "cell_type": "code",
   "execution_count": 4,
   "metadata": {},
   "outputs": [
    {
     "data": {
      "text/plain": [
       "9"
      ]
     },
     "execution_count": 4,
     "metadata": {},
     "output_type": "execute_result"
    }
   ],
   "source": [
    "import datetime\n",
    "\n",
    "datetime.datetime.now().month"
   ]
  },
  {
   "cell_type": "code",
   "execution_count": 5,
   "metadata": {},
   "outputs": [
    {
     "name": "stdout",
     "output_type": "stream",
     "text": [
      "Collecting pyjokes\n",
      "  Downloading pyjokes-0.8.3-py3-none-any.whl.metadata (3.4 kB)\n",
      "Downloading pyjokes-0.8.3-py3-none-any.whl (47 kB)\n",
      "Installing collected packages: pyjokes\n",
      "Successfully installed pyjokes-0.8.3\n"
     ]
    },
    {
     "name": "stderr",
     "output_type": "stream",
     "text": [
      "\n",
      "[notice] A new release of pip is available: 25.1.1 -> 25.2\n",
      "[notice] To update, run: python.exe -m pip install --upgrade pip\n"
     ]
    }
   ],
   "source": [
    "!pip install pyjokes"
   ]
  },
  {
   "cell_type": "code",
   "execution_count": 6,
   "metadata": {},
   "outputs": [
    {
     "name": "stdout",
     "output_type": "stream",
     "text": [
      "Microsoft hold a bi-monthly internal \"productive week\" where they use Google instead of Bing.\n"
     ]
    }
   ],
   "source": [
    "import pyjokes\n",
    "\n",
    "print(pyjokes.get_joke())"
   ]
  },
  {
   "cell_type": "code",
   "execution_count": 8,
   "metadata": {},
   "outputs": [
    {
     "name": "stdout",
     "output_type": "stream",
     "text": [
      "Programming is 10% science, 20% ingenuity, and 70% getting the ingenuity to work with the science.\n"
     ]
    }
   ],
   "source": [
    "import pyjokes\n",
    "\n",
    "user_input=input('Enter You mood')\n",
    "\n",
    "if 'joke' in user_input:\n",
    "  print(pyjokes.get_joke())\n",
    "elif 'exit' in user_input:\n",
    "  print(\"Good bye\")"
   ]
  }
 ],
 "metadata": {
  "kernelspec": {
   "display_name": "Python 3",
   "language": "python",
   "name": "python3"
  },
  "language_info": {
   "codemirror_mode": {
    "name": "ipython",
    "version": 3
   },
   "file_extension": ".py",
   "mimetype": "text/x-python",
   "name": "python",
   "nbconvert_exporter": "python",
   "pygments_lexer": "ipython3",
   "version": "3.12.8"
  }
 },
 "nbformat": 4,
 "nbformat_minor": 2
}
