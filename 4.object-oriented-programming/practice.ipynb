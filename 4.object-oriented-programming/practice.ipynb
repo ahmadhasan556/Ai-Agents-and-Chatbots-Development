{
 "cells": [
  {
   "cell_type": "code",
   "execution_count": 8,
   "metadata": {},
   "outputs": [
    {
     "name": "stdout",
     "output_type": "stream",
     "text": [
      "('Punjab Bank',)\n",
      "You deposited 5000 in account. Now balance is = 5000\n",
      "You withdraw 2000. Now balance is = 3000\n"
     ]
    }
   ],
   "source": [
    "# Task 1: Bank Account System C reate a BankAccount class with methods like deposit(), withdraw(), and check_balance().\n",
    "\n",
    "class BANKACCOUNT:\n",
    "  def __init__(self, bank_name, branch_name,account_holder, account_number, balance, account_type):\n",
    "    self.bankName= bank_name,\n",
    "    self.branchName= branch_name,\n",
    "    self.accountHolder=account_holder,\n",
    "    self.accountNumber=account_number,\n",
    "    self.accountType=account_type,\n",
    "    self.balance=balance\n",
    "\n",
    "  def deposit(self, amount):\n",
    "    self.balance += amount\n",
    "    print(f'You deposited {amount} in account. Now balance is = {self.balance}')\n",
    "  def check_balance(self):\n",
    "    return self.balance\n",
    "  def withdraw(self, amount):\n",
    "    if amount > self.balance:\n",
    "      print(\"Insufficient  balance \")\n",
    "    else:\n",
    "      self.balance -= amount\n",
    "      print(f\"You withdraw {amount}. Now balance is = {self.balance}\")\n",
    "\n",
    "mybank=BANKACCOUNT(\n",
    "  'Punjab Bank',\n",
    "  'Basir pur',\n",
    "  'ahmad hasan',\n",
    "  '1000001',\n",
    "  0,\n",
    "  'current'\n",
    ")\n",
    "\n",
    "print(mybank.bankName)\n",
    "\n",
    "mybank.deposit(5000)\n",
    "\n",
    "mybank.check_balance()\n",
    "\n",
    "mybank.withdraw(2000)\n"
   ]
  },
  {
   "cell_type": "code",
   "execution_count": 45,
   "metadata": {},
   "outputs": [
    {
     "name": "stdout",
     "output_type": "stream",
     "text": [
      "Book Agentic Ai added to library\n",
      "Book Agentic Ai added to library\n",
      "New Member Ahmad added to library\n",
      "New Member Ahmad added to library\n",
      "Book Agentic Ai issued to Ahmad\n",
      "Book 'Agentic Ai' returned by Ahmad.\n"
     ]
    }
   ],
   "source": [
    "# Task 2: Library Management Build classes for Book, Member, and Library. Implement methods to issue and return books. Show how objects interact\n",
    "\n",
    "class Book:\n",
    "  def __init__(self, title , author , publication_year, copies_avialable=1):\n",
    "    self.bookTitle= title\n",
    "    self.bookAuthor= author\n",
    "    self.publicationYear= publication_year\n",
    "    self.copyAvialable= copies_avialable\n",
    "\n",
    "\n",
    "class Member:\n",
    "  def __init__(self, member_id , name , email , phone , joining_date):\n",
    "    self.memberId= member_id\n",
    "    self.memberName= name\n",
    "    self.memberEmail= email\n",
    "    self.memberPhone = phone\n",
    "    self.joiningDate= joining_date\n",
    "\n",
    "class Library: \n",
    "  def __init__(self, library_name , address):\n",
    "    self.libraryName = library_name\n",
    "    self.address= address\n",
    "    self.books= []\n",
    "    self.members= []\n",
    "    self.issuedBooks= {}\n",
    "\n",
    "  def addBook(self, book :Book):\n",
    "    self.books.append(book)\n",
    "    print(f\"Book {book.bookTitle} added to library\")\n",
    "  \n",
    "  def register_member(self, member :Member):\n",
    "    self.members.append(member)\n",
    "    print(f\"New Member {member.memberName} added to library\")\n",
    "\n",
    "  def checkAllBooks(self):\n",
    "    for book in self.books:\n",
    "      print(f'{book.bookTitle} by {book.bookAuthor} ({book.publicationYear}) - Copies: {book.copyAvialable}')\n",
    "  \n",
    "  def checkAllMembers(self):\n",
    "    for member in self.members:\n",
    "      print(f\"{member.memberName} (ID: {member.memberId}, Email: {member.memberEmail})\")\n",
    "  \n",
    "  def issueBook(self,member:Member , book :Book):\n",
    "    if book.copyAvialable > 0:\n",
    "      book.copyAvialable -= 1\n",
    "      self.issuedBooks.setdefault(member.memberId, []).append(book)\n",
    "      print(f\"Book {book.bookTitle} issued to {member.memberName}\")\n",
    "    else:\n",
    "       print(f\"Book '{book.bookTitle}' is not available right now.\")\n",
    "\n",
    "  def returnBook(self, member:Member , book :Book):\n",
    "    if member.memberId in self.issuedBooks and book in self.issuedBooks[member.memberId]:\n",
    "      self.issuedBooks[member.memberId].remove(book)\n",
    "      book.copyAvialable += 1\n",
    "      print(f\"Book '{book.bookTitle}' returned by {member.memberName}.\")\n",
    "    else:\n",
    "      print(f\"This book was not issued to {member.memberName}.\")\n",
    "\n",
    "my_library=Library('E Public Lib', \"Basir Pur City Road\")\n",
    "\n",
    "book1=Book('Agentic Ai', 'Zeeshan Ali', '2025', 10)\n",
    "book2=Book('Agentic Ai', 'Zeeshan Ali', '2025', 10)\n",
    "member1=Member('M001','Ahmad', 'ahmadhasandev1@gmail.com', '03084911028', '2025-09-05')\n",
    "member2=Member('M001','Ahmad', 'ahmadhasandev1@gmail.com', '03084911028', '2025-09-05')\n",
    "\n",
    "my_library.addBook(book1)\n",
    "my_library.addBook(book2)\n",
    "my_library.register_member(member1)\n",
    "my_library.register_member(member2)\n",
    "my_library.issueBook(member1, book2)\n",
    "\n",
    "my_library.returnBook(member1, book2)\n",
    "\n"
   ]
  },
  {
   "cell_type": "code",
   "execution_count": 42,
   "metadata": {},
   "outputs": [
    {
     "name": "stdout",
     "output_type": "stream",
     "text": [
      "Agentic Ai by Zeeshan Ali (2025) - Copies: 10\n",
      "Agentic Ai by Zeeshan Ali (2025) - Copies: 10\n",
      "Ahmad (ID: M001, Email: ahmadhasandev1@gmail.com)\n",
      "Ahmad (ID: M001, Email: ahmadhasandev1@gmail.com)\n"
     ]
    }
   ],
   "source": [
    "my_library.checkAllBooks()\n",
    "my_library.checkAllMembers()"
   ]
  }
 ],
 "metadata": {
  "kernelspec": {
   "display_name": "Python 3",
   "language": "python",
   "name": "python3"
  },
  "language_info": {
   "codemirror_mode": {
    "name": "ipython",
    "version": 3
   },
   "file_extension": ".py",
   "mimetype": "text/x-python",
   "name": "python",
   "nbconvert_exporter": "python",
   "pygments_lexer": "ipython3",
   "version": "3.12.8"
  }
 },
 "nbformat": 4,
 "nbformat_minor": 2
}
