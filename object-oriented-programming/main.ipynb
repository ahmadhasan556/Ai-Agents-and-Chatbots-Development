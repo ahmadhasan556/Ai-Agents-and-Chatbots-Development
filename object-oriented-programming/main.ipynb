{
 "cells": [
  {
   "cell_type": "markdown",
   "metadata": {},
   "source": [
    "Object-Oriented Programming (OOP)\n",
    "\n",
    "OOP is a way of programming where we create blueprints (classes) to build real objects that have both data (attributes) and behaviors (methods).\n",
    "\n",
    "Simple Analogies\n",
    "Like a house blueprint (class) → you can build many houses (objects) from it.\n",
    "Like a car company → the design (class) makes many cars (objects).\n",
    "Like a cookie cutter (class) → it makes multiple cookies (objects) of the same shape."
   ]
  },
  {
   "cell_type": "code",
   "execution_count": 4,
   "metadata": {},
   "outputs": [
    {
     "name": "stdout",
     "output_type": "stream",
     "text": [
      "Hi\n",
      "Hello\n",
      "Hello\n"
     ]
    }
   ],
   "source": [
    "class Person:\n",
    "  def sayHi(self):\n",
    "    print('Hi')\n",
    "  def sayHello(self):\n",
    "    print('Hello')\n",
    "# objects\n",
    "watchMan=Person()\n",
    "watchMan.sayHi()\n",
    "watchMan.sayHello()\n",
    "# we create multiple instances\n",
    "ahmad=Person()\n",
    "ahmad.sayHello()\n",
    "\n",
    "# An instance of an object is a specific copy created from a class."
   ]
  },
  {
   "cell_type": "markdown",
   "metadata": {},
   "source": [
    "Constructors\n",
    "Definition\n",
    "\n",
    "A constructor is a special method in a class that runs automatically when a new object is created. In Python, the constructor is defined using init."
   ]
  },
  {
   "cell_type": "code",
   "execution_count": 7,
   "metadata": {},
   "outputs": [
    {
     "name": "stdout",
     "output_type": "stream",
     "text": [
      "My Age is 7\n",
      "20\n"
     ]
    }
   ],
   "source": [
    "# new blueprint\n",
    "\n",
    "class Person:\n",
    "  def __init__(self,name,age):\n",
    "    self.name= name\n",
    "    self.age=age\n",
    "  def tellMyName(self):\n",
    "    print(f\"My Name is {self.name}\")\n",
    "  def tellMyAge(self):\n",
    "    print(f\"My Age is {self.age}\")\n",
    "\n",
    "ahmad=Person('Ahmad',20)\n",
    "ali=Person('Ali',7)\n",
    "bilal=Person('Bilal',6)\n",
    "abdullah=Person('Abullah',9)\n",
    "abd=Person('Abdurehman',8)\n",
    "\n",
    "ali.tellMyAge()\n",
    "print(ahmad.age) # direct method"
   ]
  },
  {
   "cell_type": "code",
   "execution_count": 11,
   "metadata": {},
   "outputs": [],
   "source": [
    "class Car:\n",
    "  def __init__(self,manufacturer , model, year, ownerInfo):\n",
    "    self.manufacturer= manufacturer\n",
    "    self.model=model\n",
    "    self.year=year\n",
    "    self.ownerInfo=ownerInfo\n",
    "    self.fuel=0\n",
    "    self.milage=0\n",
    "  def fuelUp(self,litters):\n",
    "    self.fuel += litters\n",
    "    print(f\"Filling Up {litters} litters of fuel\")\n",
    "  def getCurrentFuel(self):\n",
    "    return self.fuel\n",
    "  \n",
    "  def getCurrentMilage(self):\n",
    "    return self.milage\n",
    "  \n",
    "  def getOwnerInfo(self):\n",
    "    return self.ownerInfo\n",
    "  \n",
    "  def drive(self, distance):\n",
    "    if distance * 0.1 > self.fuel:\n",
    "      print(\"Not enough fuel to drive the car\")\n",
    "      return\n",
    "    self.milage += distance\n",
    "    self.fuel -= distance * 0.1\n",
    "    print(f\"Driving {distance} Km\")"
   ]
  },
  {
   "cell_type": "code",
   "execution_count": 13,
   "metadata": {},
   "outputs": [
    {
     "name": "stdout",
     "output_type": "stream",
     "text": [
      "Filling Up 50 litters of fuel\n"
     ]
    }
   ],
   "source": [
    "myCar=Car('Toyto', \"Aqua\", 2024,{\n",
    "  \"name\": \"Ahmad Hasan\"\n",
    "})\n",
    "\n",
    "myCar.fuelUp(50)\n"
   ]
  },
  {
   "cell_type": "code",
   "execution_count": 14,
   "metadata": {},
   "outputs": [
    {
     "name": "stdout",
     "output_type": "stream",
     "text": [
      "Driving 20 Km\n"
     ]
    }
   ],
   "source": [
    "myCar.drive(20)"
   ]
  },
  {
   "cell_type": "code",
   "execution_count": 15,
   "metadata": {},
   "outputs": [
    {
     "data": {
      "text/plain": [
       "48.0"
      ]
     },
     "execution_count": 15,
     "metadata": {},
     "output_type": "execute_result"
    }
   ],
   "source": [
    "myCar.getCurrentFuel()"
   ]
  },
  {
   "cell_type": "code",
   "execution_count": 16,
   "metadata": {},
   "outputs": [
    {
     "data": {
      "text/plain": [
       "20"
      ]
     },
     "execution_count": 16,
     "metadata": {},
     "output_type": "execute_result"
    }
   ],
   "source": [
    "myCar.getCurrentMilage()"
   ]
  },
  {
   "cell_type": "code",
   "execution_count": 18,
   "metadata": {},
   "outputs": [
    {
     "data": {
      "text/plain": [
       "{'name': 'Ahmad Hasan'}"
      ]
     },
     "execution_count": 18,
     "metadata": {},
     "output_type": "execute_result"
    }
   ],
   "source": [
    "myCar.getOwnerInfo()"
   ]
  },
  {
   "cell_type": "code",
   "execution_count": 19,
   "metadata": {},
   "outputs": [],
   "source": [
    "# blueperint of chatbot\n",
    "class chatbot:\n",
    "  def __init__(self, name , goal):\n",
    "    self.name=name\n",
    "    self.goal=goal\n",
    "  def getName(self):\n",
    "    return self.name\n",
    "  def getGoal(self):\n",
    "    return self.goal\n",
    "  def getReply(self,query):\n",
    "    return \"I am fine what about you\""
   ]
  },
  {
   "cell_type": "code",
   "execution_count": 21,
   "metadata": {},
   "outputs": [],
   "source": [
    "CustomerService=chatbot(\"CSR\",\"Your goal is to convince customers\")"
   ]
  },
  {
   "cell_type": "code",
   "execution_count": 22,
   "metadata": {},
   "outputs": [
    {
     "data": {
      "text/plain": [
       "'CSR'"
      ]
     },
     "execution_count": 22,
     "metadata": {},
     "output_type": "execute_result"
    }
   ],
   "source": [
    "CustomerService.getName()"
   ]
  },
  {
   "cell_type": "code",
   "execution_count": 23,
   "metadata": {},
   "outputs": [
    {
     "data": {
      "text/plain": [
       "'Your goal is to convince customers'"
      ]
     },
     "execution_count": 23,
     "metadata": {},
     "output_type": "execute_result"
    }
   ],
   "source": [
    "CustomerService.getGoal()"
   ]
  },
  {
   "cell_type": "code",
   "execution_count": 26,
   "metadata": {},
   "outputs": [
    {
     "data": {
      "text/plain": [
       "'I am fine what about you'"
      ]
     },
     "execution_count": 26,
     "metadata": {},
     "output_type": "execute_result"
    }
   ],
   "source": [
    "CustomerService.getReply(\"How are you \")"
   ]
  },
  {
   "cell_type": "code",
   "execution_count": 27,
   "metadata": {},
   "outputs": [
    {
     "name": "stdout",
     "output_type": "stream",
     "text": [
      "Toyota is starting...\n",
      "Toyota drove 50 km. Remaining fuel: 5.0L\n",
      "Toyota fuel left: 5.0\n",
      "Tesla has no fuel!\n",
      "Tesla (Electric) drove 100 km silently 🚘⚡\n",
      "Toyota drove 30 km. Remaining fuel: 2.0L\n",
      "Tesla (Electric) drove 30 km silently 🚘⚡\n"
     ]
    }
   ],
   "source": [
    "from abc import ABC, abstractmethod\n",
    "\n",
    "# 1. Abstraction: Vehicle class hides details\n",
    "class Vehicle(ABC):\n",
    "    @abstractmethod\n",
    "    def start(self):\n",
    "        pass\n",
    "\n",
    "    @abstractmethod\n",
    "    def drive(self, distance):\n",
    "        pass\n",
    "\n",
    "\n",
    "# 2. Encapsulation: Car has private fuel\n",
    "class Car(Vehicle):\n",
    "    def __init__(self, brand, fuel):\n",
    "        self.brand = brand\n",
    "        self.__fuel = fuel  # private attribute\n",
    "        self.mileage = 0\n",
    "\n",
    "    def refuel(self, amount):\n",
    "        self.__fuel += amount\n",
    "        print(f\"{self.brand} refueled with {amount}L, total fuel: {self.__fuel}L\")\n",
    "\n",
    "    def get_fuel(self):\n",
    "        return self.__fuel\n",
    "\n",
    "    # 3. Inheritance: Car must implement Vehicle methods\n",
    "    def start(self):\n",
    "        if self.__fuel > 0:\n",
    "            print(f\"{self.brand} is starting...\")\n",
    "        else:\n",
    "            print(f\"{self.brand} has no fuel!\")\n",
    "\n",
    "    # 4. Polymorphism: drive behaves differently based on brand\n",
    "    def drive(self, distance):\n",
    "        fuel_needed = distance * 0.1\n",
    "        if fuel_needed > self.__fuel:\n",
    "            print(f\"{self.brand}: Not enough fuel to drive {distance} km.\")\n",
    "            return\n",
    "        self.mileage += distance\n",
    "        self.__fuel -= fuel_needed\n",
    "        print(f\"{self.brand} drove {distance} km. Remaining fuel: {self.__fuel:.1f}L\")\n",
    "\n",
    "\n",
    "# Child classes showing Polymorphism\n",
    "class ElectricCar(Car):\n",
    "    def drive(self, distance):\n",
    "        # Electric car consumes battery differently\n",
    "        print(f\"{self.brand} (Electric) drove {distance} km silently 🚘⚡\")\n",
    "\n",
    "\n",
    "# --- Usage ---\n",
    "toyota = Car(\"Toyota\", 10)\n",
    "tesla = ElectricCar(\"Tesla\", 0)\n",
    "\n",
    "# Encapsulation\n",
    "toyota.start()\n",
    "toyota.drive(50)\n",
    "print(\"Toyota fuel left:\", toyota.get_fuel())\n",
    "\n",
    "# Abstraction (we don't care HOW start works, just that it works)\n",
    "tesla.start()\n",
    "tesla.drive(100)\n",
    "\n",
    "# Inheritance + Polymorphism\n",
    "vehicles = [toyota, tesla]\n",
    "for v in vehicles:\n",
    "    v.drive(30)   # same method name, different behavior\n"
   ]
  }
 ],
 "metadata": {
  "kernelspec": {
   "display_name": "Python 3",
   "language": "python",
   "name": "python3"
  },
  "language_info": {
   "codemirror_mode": {
    "name": "ipython",
    "version": 3
   },
   "file_extension": ".py",
   "mimetype": "text/x-python",
   "name": "python",
   "nbconvert_exporter": "python",
   "pygments_lexer": "ipython3",
   "version": "3.12.8"
  }
 },
 "nbformat": 4,
 "nbformat_minor": 2
}
