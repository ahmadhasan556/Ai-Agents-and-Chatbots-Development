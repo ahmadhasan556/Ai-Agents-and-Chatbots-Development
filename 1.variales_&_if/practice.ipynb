{
 "cells": [
  {
   "cell_type": "code",
   "execution_count": 29,
   "metadata": {},
   "outputs": [
    {
     "name": "stdout",
     "output_type": "stream",
     "text": [
      "Sum is Odd 11\n"
     ]
    }
   ],
   "source": [
    "# Take three numbers.\n",
    "# Find their sum and check if the sum is even or odd.\n",
    "a=3\n",
    "b=4\n",
    "c=4\n",
    "\n",
    "\n",
    "total = a+b+c\n",
    "\n",
    "if(total % 2 == 0):\n",
    "  print(\"Sum is Even\", total)\n",
    "else:\n",
    "  print(\"Sum is Odd\", total)"
   ]
  },
  {
   "cell_type": "code",
   "execution_count": 27,
   "metadata": {},
   "outputs": [
    {
     "name": "stdout",
     "output_type": "stream",
     "text": [
      "10% discount 1425.0\n"
     ]
    }
   ],
   "source": [
    "# Discount Price Calculator\n",
    "# Given a product price.\n",
    "# Apply 10% discount if price > 1000, 5% if > 500, otherwise no\n",
    "# discount.\n",
    "# Print final price.\n",
    "\n",
    "productPrice = 1500\n",
    "\n",
    "if(productPrice > 1000):\n",
    "  discount = productPrice - (productPrice * 10 /100)\n",
    "  print(\"10% discount\",discount)\n",
    "elif(productPrice > 500):\n",
    "  discount = productPrice - (productPrice * 5 /100)\n",
    "  print(\"5% discount\",discount)\n",
    "else:\n",
    "  print(\"Not discount\")"
   ]
  },
  {
   "cell_type": "code",
   "execution_count": 16,
   "metadata": {},
   "outputs": [
    {
     "name": "stdout",
     "output_type": "stream",
     "text": [
      "Not leep\n"
     ]
    }
   ],
   "source": [
    "# Leap Year Checker\n",
    "# What is a Leap Year? A leap year has 366 days (February has 29\n",
    "# days) instead of 365.\n",
    "# It happens to keep our calendar year in sync with the Earth's orbit\n",
    "# around the Sun.\n",
    "# Formula: A year is a leap year if:\n",
    "# 1) Divisible by 4 and NOT divisible by 100 OR\n",
    "# 2) Divisible by 400\n",
    "# Given a year. Check if it is a leap year using correct\n",
    "# logical conditions.\n",
    "year = 2025\n",
    "\n",
    "# Leap year formula\n",
    "isLeap = (year % 4 == 0 and year % 100 != 0) or (year % 400 == 0)\n",
    "\n",
    "if isLeap:\n",
    "    print(\"Leap year\")\n",
    "else:\n",
    "    print(\"Not a leap year\")"
   ]
  },
  {
   "cell_type": "code",
   "execution_count": 1,
   "metadata": {},
   "outputs": [
    {
     "name": "stdout",
     "output_type": "stream",
     "text": [
      "STDM2 got high mark\n"
     ]
    }
   ],
   "source": [
    "# Highest Marks Finder\n",
    "# Given marks of three students.\n",
    "# Print which student has the highest marks.\n",
    "stdM1=20\n",
    "stdM2=35\n",
    "stdM3=15\n",
    "\n",
    "if(stdM1 > stdM2 and stdM1 > stdM3):\n",
    "  print(\"STDM1 Got high marks\")\n",
    "elif(stdM2 > stdM1 and stdM2 > stdM3):\n",
    "  print(\"STDM2 got high mark\")\n",
    "elif(stdM3 > stdM2 and stdM3 > stdM1):\n",
    "  print(\"STDM3 got high mark\")\n",
    "else:\n",
    "  print(\"STDM3 got high mark\")\n",
    "  "
   ]
  },
  {
   "cell_type": "code",
   "execution_count": 8,
   "metadata": {},
   "outputs": [
    {
     "name": "stdout",
     "output_type": "stream",
     "text": [
      "You are a senior citizen\n"
     ]
    }
   ],
   "source": [
    "# Age Category Checker\n",
    "# Create a variable age.\n",
    "# Print whether the person is Child, Teenager, Adult, or Senior\n",
    "# Citizen using conditions.\n",
    "\n",
    "age = 60\n",
    "\n",
    "if age <= 12:\n",
    "  print(\"You are a child\")\n",
    "elif age <= 19:\n",
    "  print(\"You are a teenager\")\n",
    "elif age <= 59:\n",
    "  print(\"You are an Adult\")\n",
    "else: \n",
    "  print(\"You are a senior citizen\")"
   ]
  }
 ],
 "metadata": {
  "kernelspec": {
   "display_name": "Python 3",
   "language": "python",
   "name": "python3"
  },
  "language_info": {
   "codemirror_mode": {
    "name": "ipython",
    "version": 3
   },
   "file_extension": ".py",
   "mimetype": "text/x-python",
   "name": "python",
   "nbconvert_exporter": "python",
   "pygments_lexer": "ipython3",
   "version": "3.12.8"
  }
 },
 "nbformat": 4,
 "nbformat_minor": 2
}
