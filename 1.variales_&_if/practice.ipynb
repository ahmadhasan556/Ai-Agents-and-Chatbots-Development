{
 "cells": [
  {
   "cell_type": "code",
   "execution_count": 29,
   "metadata": {},
   "outputs": [
    {
     "name": "stdout",
     "output_type": "stream",
     "text": [
      "Sum is Odd 11\n"
     ]
    }
   ],
   "source": [
    "a=3\n",
    "b=4\n",
    "c=4\n",
    "\n",
    "sum = a+b+c\n",
    "\n",
    "if(sum % 2 == 0):\n",
    "  print(\"Sum is Even\", sum)\n",
    "else:\n",
    "  print(\"Sum is Odd\", sum)"
   ]
  },
  {
   "cell_type": "code",
   "execution_count": 27,
   "metadata": {},
   "outputs": [
    {
     "name": "stdout",
     "output_type": "stream",
     "text": [
      "10% discount 1425.0\n"
     ]
    }
   ],
   "source": [
    "productPrice = 1500\n",
    "\n",
    "\n",
    "if(productPrice > 1000):\n",
    "  discount = productPrice - (productPrice * 5 /100)\n",
    "  print(\"10% discount\",discount)\n",
    "elif(productPrice > 500):\n",
    "  discount = productPrice - (productPrice * 10 /100)\n",
    "  print(\"5% discount\",discount)\n",
    "else:\n",
    "  print(\"Not discount\")"
   ]
  },
  {
   "cell_type": "code",
   "execution_count": 16,
   "metadata": {},
   "outputs": [
    {
     "name": "stdout",
     "output_type": "stream",
     "text": [
      "Not leep\n"
     ]
    }
   ],
   "source": [
    "leepYear = 2025\n",
    "\n",
    "formula = (leepYear % 4 == 0 and leepYear % 100 != 0) or (leepYear % 400 == 0)\n",
    "\n",
    "if(formula):\n",
    "  print(\"Leep year\")\n",
    "else:\n",
    "  print(\"Not leep\")"
   ]
  },
  {
   "cell_type": "code",
   "execution_count": 12,
   "metadata": {},
   "outputs": [
    {
     "name": "stdout",
     "output_type": "stream",
     "text": [
      "STDM2 got high mark\n"
     ]
    }
   ],
   "source": [
    "stdM1=20\n",
    "stdM2=35\n",
    "stdM3=15\n",
    "\n",
    "if(stdM1 > stdM2):\n",
    "  print(\"STDM1 Got high marks\")\n",
    "elif(stdM2 > stdM3):\n",
    "  print(\"STDM2 got high mark\")\n",
    "else:\n",
    "  print(\"STDM3 got high mark\")\n",
    "  "
   ]
  },
  {
   "cell_type": "code",
   "execution_count": 30,
   "metadata": {},
   "outputs": [
    {
     "name": "stdout",
     "output_type": "stream",
     "text": [
      "You Are Adult\n"
     ]
    }
   ],
   "source": [
    "# age checker\n",
    "age = 19\n",
    "\n",
    "if(age >= 18 and age <= 39):\n",
    "  print(\"You Are Adult\")\n",
    "elif(age >= 40):\n",
    "  print(\"You are senior citizen\")\n",
    "elif(age > 13):\n",
    "  print(\"You are teenage\")\n",
    "else:\n",
    "  print(\"You are child\")"
   ]
  }
 ],
 "metadata": {
  "kernelspec": {
   "display_name": "Python 3",
   "language": "python",
   "name": "python3"
  },
  "language_info": {
   "codemirror_mode": {
    "name": "ipython",
    "version": 3
   },
   "file_extension": ".py",
   "mimetype": "text/x-python",
   "name": "python",
   "nbconvert_exporter": "python",
   "pygments_lexer": "ipython3",
   "version": "3.12.8"
  }
 },
 "nbformat": 4,
 "nbformat_minor": 2
}
