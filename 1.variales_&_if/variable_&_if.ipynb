{
 "cells": [
  {
   "cell_type": "code",
   "execution_count": 2,
   "metadata": {},
   "outputs": [
    {
     "name": "stdout",
     "output_type": "stream",
     "text": [
      "Hello world\n",
      "Welcome to Agentic ai 2 months course in which we covers a lot of things\n"
     ]
    }
   ],
   "source": [
    "print(\"Hello world\")\n",
    "print(\"Welcome to Agentic ai 2 months course in which we covers a lot of things\")"
   ]
  },
  {
   "cell_type": "markdown",
   "metadata": {},
   "source": [
    "Variables\n",
    "\n",
    "Definition\n",
    "\n",
    "Variables are named storage locations in memory that hold data values.\n"
   ]
  },
  {
   "cell_type": "code",
   "execution_count": 1,
   "metadata": {},
   "outputs": [
    {
     "name": "stdout",
     "output_type": "stream",
     "text": [
      "Ahmad Hasan\n"
     ]
    }
   ],
   "source": [
    "# NAME=VALUE\n",
    "\n",
    "name=\"Ahmad Hasan\"\n",
    "print(name)"
   ]
  },
  {
   "cell_type": "code",
   "execution_count": 2,
   "metadata": {},
   "outputs": [
    {
     "name": "stdout",
     "output_type": "stream",
     "text": [
      "True\n",
      "5\n"
     ]
    }
   ],
   "source": [
    "# These values can be different in type called data types\n",
    "\n",
    "is_reading=True\n",
    "num_of_mobile=5\n",
    "\n",
    "print(is_reading)\n",
    "print(num_of_mobile)"
   ]
  },
  {
   "cell_type": "code",
   "execution_count": 3,
   "metadata": {},
   "outputs": [
    {
     "name": "stdout",
     "output_type": "stream",
     "text": [
      "<class 'int'>\n",
      "<class 'str'>\n"
     ]
    }
   ],
   "source": [
    "#Type checking of variables\n",
    "\n",
    "age = 25\n",
    "name = \"Ahmad Hasan\"\n",
    "\n",
    "print(type(age))\n",
    "print(type(name))"
   ]
  },
  {
   "cell_type": "markdown",
   "metadata": {},
   "source": [
    "Naming Rules of a Variable in Python\n",
    "\n",
    "Rules:\n",
    "  1.Must begin with a letter (a–z, A–Z) or underscore (_)\n",
    "  2.Cannot start with a number\n",
    "  3.Can only contain letters, numbers, and underscores\n",
    "  4.Case-sensitive (age, Age, and AGE are different)\n",
    "  5.Should not be a Python keyword (if, while, class, etc.)"
   ]
  },
  {
   "cell_type": "code",
   "execution_count": 4,
   "metadata": {},
   "outputs": [
    {
     "name": "stdout",
     "output_type": "stream",
     "text": [
      "24\n",
      "25\n"
     ]
    }
   ],
   "source": [
    "age=24\n",
    "AGE=25\n",
    "# above both are different variables\n",
    "\n",
    "print(age)\n",
    "print(AGE)"
   ]
  },
  {
   "cell_type": "code",
   "execution_count": 8,
   "metadata": {},
   "outputs": [
    {
     "name": "stdout",
     "output_type": "stream",
     "text": [
      "27.27272727272727\n"
     ]
    }
   ],
   "source": [
    "# percentage calculator\n",
    "obtainM=300\n",
    "totalM=1100\n",
    "\n",
    "percentage=(obtainM/totalM) * 100\n",
    "\n",
    "print(percentage)\n",
    "\n",
    "if percentage >= 50: \n",
    "  print(\"You are pass\")"
   ]
  },
  {
   "cell_type": "code",
   "execution_count": 5,
   "metadata": {},
   "outputs": [
    {
     "name": "stdout",
     "output_type": "stream",
     "text": [
      "101\n",
      "-11\n",
      "2520\n",
      "0.8035714285714286\n"
     ]
    }
   ],
   "source": [
    "a=45\n",
    "b=56\n",
    "\n",
    "print(a+b)\n",
    "print(a-b)\n",
    "print(a*b)\n",
    "print(a/b)"
   ]
  },
  {
   "cell_type": "code",
   "execution_count": 6,
   "metadata": {},
   "outputs": [
    {
     "name": "stdout",
     "output_type": "stream",
     "text": [
      "1.6071428571428572\n"
     ]
    }
   ],
   "source": [
    "x=45\n",
    "y=56\n",
    "\n",
    "eq=(x*2) / y\n",
    "print(eq)"
   ]
  },
  {
   "cell_type": "code",
   "execution_count": 9,
   "metadata": {},
   "outputs": [
    {
     "name": "stdout",
     "output_type": "stream",
     "text": [
      "32\n",
      "2\n"
     ]
    }
   ],
   "source": [
    "# power value\n",
    "a=2\n",
    "b=5\n",
    "answer=a**b \n",
    "print(answer)\n",
    "\n",
    "#reminder %\n",
    "reminder=a%b\n",
    "print(reminder)"
   ]
  },
  {
   "cell_type": "markdown",
   "metadata": {},
   "source": [
    "Conditional Statement\n",
    "\n",
    "Def: \n",
    "  Conditional statement are used to execute the block of code on the base of sepcific condition\n",
    "\n",
    "if else elif\n"
   ]
  },
  {
   "cell_type": "code",
   "execution_count": 10,
   "metadata": {},
   "outputs": [
    {
     "name": "stdout",
     "output_type": "stream",
     "text": [
      "You are reading a book\n"
     ]
    }
   ],
   "source": [
    "# These values can be different in type called data types\n",
    "\n",
    "is_reading=True\n",
    "num_of_mobile=5\n",
    "\n",
    "if(is_reading==True):\n",
    "  print(\"You are reading a book\")"
   ]
  },
  {
   "cell_type": "code",
   "execution_count": 11,
   "metadata": {},
   "outputs": [
    {
     "name": "stdout",
     "output_type": "stream",
     "text": [
      "you are eligible\n"
     ]
    }
   ],
   "source": [
    "age=34\n",
    "dom=\"lahore\"\n",
    "\n",
    "if(age >= 34 and dom == \"lahore\"):\n",
    "  print(\"you are eligible\")\n",
    "else:\n",
    "  print(\"You are not eligible\")"
   ]
  },
  {
   "cell_type": "code",
   "execution_count": 10,
   "metadata": {},
   "outputs": [
    {
     "name": "stdout",
     "output_type": "stream",
     "text": [
      "Grade c\n"
     ]
    }
   ],
   "source": [
    "\n",
    "percentage = 35\n",
    "\n",
    "if(percentage >= 40):\n",
    "  print(\"Grade b\")\n",
    "else:\n",
    "  print(\"Grade c\")"
   ]
  }
 ],
 "metadata": {
  "kernelspec": {
   "display_name": "Python 3",
   "language": "python",
   "name": "python3"
  },
  "language_info": {
   "codemirror_mode": {
    "name": "ipython",
    "version": 3
   },
   "file_extension": ".py",
   "mimetype": "text/x-python",
   "name": "python",
   "nbconvert_exporter": "python",
   "pygments_lexer": "ipython3",
   "version": "3.12.8"
  }
 },
 "nbformat": 4,
 "nbformat_minor": 2
}
